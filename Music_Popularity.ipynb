{
  "nbformat": 4,
  "nbformat_minor": 0,
  "metadata": {
    "colab": {
      "provenance": [],
      "include_colab_link": true
    },
    "kernelspec": {
      "name": "python3",
      "display_name": "Python 3"
    },
    "language_info": {
      "name": "python"
    }
  },
  "cells": [
    {
      "cell_type": "markdown",
      "metadata": {
        "id": "view-in-github",
        "colab_type": "text"
      },
      "source": [
        "<a href=\"https://colab.research.google.com/github/lzhu19/muspop-analysis/blob/main/Music_Popularity.ipynb\" target=\"_parent\"><img src=\"https://colab.research.google.com/assets/colab-badge.svg\" alt=\"Open In Colab\"/></a>"
      ]
    },
    {
      "cell_type": "markdown",
      "source": [
        "*   Domain: Music\n",
        "*   Research Question: What factors make music popular?\n",
        "*   Underlying Problem: if not \"trendy\" then old music will be lost just because they aren't as \"good\" as modern songs\n",
        "*   Practical Significance: define \"popular,\" predict whether new songs will be popular or not\n",
        "\n",
        "For classical music, the band that is playing it can largely affect the resulting music\n",
        "Depends on opinion on popularity; subjective\n",
        "\n",
        "Make columns for artists, like composer, conductor, pianist, orchestra, something so that they are organized\n",
        "If 3, then no pianist\n",
        "artists"
      ],
      "metadata": {
        "id": "HrgUr6xiX_Te"
      }
    },
    {
      "cell_type": "markdown",
      "source": [
        "\n",
        "Kaggle: https://www.kaggle.com/code/vatsalmavani/music-recommendation-system-using-spotify-dataset/input\n",
        "\n",
        "Music Rec for Spotify: https://www.section.io/engineering-education/building-spotify-recommendation-engine/"
      ],
      "metadata": {
        "id": "JLJTbFNCYpKy"
      }
    },
    {
      "cell_type": "code",
      "source": [
        "import pandas as pd"
      ],
      "metadata": {
        "id": "L9RGRW6RWQk4"
      },
      "execution_count": null,
      "outputs": []
    },
    {
      "cell_type": "code",
      "source": [
        "def load_into_dataframe(link, filename):\n",
        "  \"\"\"\n",
        "  link: string for shareable link of data file on Google Drive.\n",
        "  filename: string for name of data file.\n",
        "\n",
        "  Returns DataFrame for loaded data file.\n",
        "  \"\"\"\n",
        "  id = link.split(\"/\")[-2:-1][0]\n",
        "  downloaded = drive.CreateFile({'id':id})\n",
        "  downloaded.GetContentFile(filename)\n",
        "  df = pd.read_csv(filename, encoding='latin-1')\n",
        "\n",
        "  return df"
      ],
      "metadata": {
        "id": "EbFQ_w35WRKV"
      },
      "execution_count": null,
      "outputs": []
    },
    {
      "cell_type": "code",
      "source": [
        "# Code for reading data file on Google Drive into Colaboratory #\n",
        "\n",
        "!pip install -U -q PyDrive\n",
        "from pydrive.auth import GoogleAuth\n",
        "from pydrive.drive import GoogleDrive\n",
        "from google.colab import auth\n",
        "from oauth2client.client import GoogleCredentials\n",
        "# Authenticate and create the PyDrive client.\n",
        "auth.authenticate_user()\n",
        "gauth = GoogleAuth()\n",
        "gauth.credentials = GoogleCredentials.get_application_default()\n",
        "drive = GoogleDrive(gauth)"
      ],
      "metadata": {
        "id": "GqMKQ3LQWTZ5"
      },
      "execution_count": null,
      "outputs": []
    },
    {
      "cell_type": "code",
      "source": [
        "# Load csv file into CoLab and read it as a dataframe.\n",
        "data_link = 'https://drive.google.com/file/d/16C_aoXSmA4-dDGgpmZQ4mC2EcN_Y0eqv/view?usp=drive_link' # Right-click on the data file (stored in YOUR PERSONAL Google Drive) and copy link\n",
        "df = load_into_dataframe(data_link, 'data.csv')"
      ],
      "metadata": {
        "id": "9dcr1xG9WVQC"
      },
      "execution_count": null,
      "outputs": []
    },
    {
      "cell_type": "code",
      "source": [
        "df.info()\n",
        "# print(len(df))\n",
        "df.tail()"
      ],
      "metadata": {
        "colab": {
          "base_uri": "https://localhost:8080/",
          "height": 816
        },
        "id": "phMGFhaLWW1E",
        "outputId": "48b808c4-ed86-4572-a78c-3f43690e5990"
      },
      "execution_count": null,
      "outputs": [
        {
          "output_type": "stream",
          "name": "stdout",
          "text": [
            "<class 'pandas.core.frame.DataFrame'>\n",
            "RangeIndex: 170653 entries, 0 to 170652\n",
            "Data columns (total 19 columns):\n",
            " #   Column            Non-Null Count   Dtype  \n",
            "---  ------            --------------   -----  \n",
            " 0   valence           170653 non-null  float64\n",
            " 1   year              170653 non-null  int64  \n",
            " 2   acousticness      170653 non-null  float64\n",
            " 3   artists           170653 non-null  object \n",
            " 4   danceability      170653 non-null  float64\n",
            " 5   duration_ms       170653 non-null  int64  \n",
            " 6   energy            170653 non-null  float64\n",
            " 7   explicit          170653 non-null  int64  \n",
            " 8   id                170653 non-null  object \n",
            " 9   instrumentalness  170653 non-null  float64\n",
            " 10  key               170653 non-null  int64  \n",
            " 11  liveness          170653 non-null  float64\n",
            " 12  loudness          170653 non-null  float64\n",
            " 13  mode              170653 non-null  int64  \n",
            " 14  name              170653 non-null  object \n",
            " 15  popularity        170653 non-null  int64  \n",
            " 16  release_date      170653 non-null  object \n",
            " 17  speechiness       170653 non-null  float64\n",
            " 18  tempo             170653 non-null  float64\n",
            "dtypes: float64(9), int64(6), object(4)\n",
            "memory usage: 24.7+ MB\n"
          ]
        },
        {
          "output_type": "execute_result",
          "data": {
            "text/plain": [
              "        valence  year  acousticness  \\\n",
              "170648    0.608  2020       0.08460   \n",
              "170649    0.734  2020       0.20600   \n",
              "170650    0.637  2020       0.10100   \n",
              "170651    0.195  2020       0.00998   \n",
              "170652    0.642  2020       0.13200   \n",
              "\n",
              "                                                  artists  danceability  \\\n",
              "170648  ['Anuel AA', 'Daddy Yankee', 'KAROL G', 'Ozuna...         0.786   \n",
              "170649                                       ['Ashnikko']         0.717   \n",
              "170650                                        ['MAMAMOO']         0.634   \n",
              "170651                                         ['Eminem']         0.671   \n",
              "170652                              ['KEVVO', 'J Balvin']         0.856   \n",
              "\n",
              "        duration_ms  energy  explicit                      id  \\\n",
              "170648       301714   0.808         0  0KkIkfsLEJbrcIhYsCL7L5   \n",
              "170649       150654   0.753         0  0OStKKAuXlxA0fMH54Qs6E   \n",
              "170650       211280   0.858         0  4BZXVFYCb76Q0Klojq4piV   \n",
              "170651       337147   0.623         1  5SiZJoLXp3WOl3J4C8IK0d   \n",
              "170652       189507   0.721         1  7HmnJHfs0BkFzX4x8j0hkl   \n",
              "\n",
              "        instrumentalness  key  liveness  loudness  mode  \\\n",
              "170648          0.000289    7    0.0822    -3.702     1   \n",
              "170649          0.000000    7    0.1010    -6.020     1   \n",
              "170650          0.000009    4    0.2580    -2.226     0   \n",
              "170651          0.000008    2    0.6430    -7.161     1   \n",
              "170652          0.004710    7    0.1820    -4.928     1   \n",
              "\n",
              "                                   name  popularity release_date  speechiness  \\\n",
              "170648                            China          72   2020-05-29       0.0881   \n",
              "170649      Halloweenie III: Seven Days          68   2020-10-23       0.0605   \n",
              "170650                              AYA          76   2020-11-03       0.0809   \n",
              "170651                         Darkness          70   2020-01-17       0.3080   \n",
              "170652  Billetes Azules (with J Balvin)          74   2020-10-16       0.1080   \n",
              "\n",
              "          tempo  \n",
              "170648  105.029  \n",
              "170649  137.936  \n",
              "170650   91.688  \n",
              "170651   75.055  \n",
              "170652   94.991  "
            ],
            "text/html": [
              "\n",
              "  <div id=\"df-af41ff4b-9f30-4f40-a7f0-f7569111fad1\" class=\"colab-df-container\">\n",
              "    <div>\n",
              "<style scoped>\n",
              "    .dataframe tbody tr th:only-of-type {\n",
              "        vertical-align: middle;\n",
              "    }\n",
              "\n",
              "    .dataframe tbody tr th {\n",
              "        vertical-align: top;\n",
              "    }\n",
              "\n",
              "    .dataframe thead th {\n",
              "        text-align: right;\n",
              "    }\n",
              "</style>\n",
              "<table border=\"1\" class=\"dataframe\">\n",
              "  <thead>\n",
              "    <tr style=\"text-align: right;\">\n",
              "      <th></th>\n",
              "      <th>valence</th>\n",
              "      <th>year</th>\n",
              "      <th>acousticness</th>\n",
              "      <th>artists</th>\n",
              "      <th>danceability</th>\n",
              "      <th>duration_ms</th>\n",
              "      <th>energy</th>\n",
              "      <th>explicit</th>\n",
              "      <th>id</th>\n",
              "      <th>instrumentalness</th>\n",
              "      <th>key</th>\n",
              "      <th>liveness</th>\n",
              "      <th>loudness</th>\n",
              "      <th>mode</th>\n",
              "      <th>name</th>\n",
              "      <th>popularity</th>\n",
              "      <th>release_date</th>\n",
              "      <th>speechiness</th>\n",
              "      <th>tempo</th>\n",
              "    </tr>\n",
              "  </thead>\n",
              "  <tbody>\n",
              "    <tr>\n",
              "      <th>170648</th>\n",
              "      <td>0.608</td>\n",
              "      <td>2020</td>\n",
              "      <td>0.08460</td>\n",
              "      <td>['Anuel AA', 'Daddy Yankee', 'KAROL G', 'Ozuna...</td>\n",
              "      <td>0.786</td>\n",
              "      <td>301714</td>\n",
              "      <td>0.808</td>\n",
              "      <td>0</td>\n",
              "      <td>0KkIkfsLEJbrcIhYsCL7L5</td>\n",
              "      <td>0.000289</td>\n",
              "      <td>7</td>\n",
              "      <td>0.0822</td>\n",
              "      <td>-3.702</td>\n",
              "      <td>1</td>\n",
              "      <td>China</td>\n",
              "      <td>72</td>\n",
              "      <td>2020-05-29</td>\n",
              "      <td>0.0881</td>\n",
              "      <td>105.029</td>\n",
              "    </tr>\n",
              "    <tr>\n",
              "      <th>170649</th>\n",
              "      <td>0.734</td>\n",
              "      <td>2020</td>\n",
              "      <td>0.20600</td>\n",
              "      <td>['Ashnikko']</td>\n",
              "      <td>0.717</td>\n",
              "      <td>150654</td>\n",
              "      <td>0.753</td>\n",
              "      <td>0</td>\n",
              "      <td>0OStKKAuXlxA0fMH54Qs6E</td>\n",
              "      <td>0.000000</td>\n",
              "      <td>7</td>\n",
              "      <td>0.1010</td>\n",
              "      <td>-6.020</td>\n",
              "      <td>1</td>\n",
              "      <td>Halloweenie III: Seven Days</td>\n",
              "      <td>68</td>\n",
              "      <td>2020-10-23</td>\n",
              "      <td>0.0605</td>\n",
              "      <td>137.936</td>\n",
              "    </tr>\n",
              "    <tr>\n",
              "      <th>170650</th>\n",
              "      <td>0.637</td>\n",
              "      <td>2020</td>\n",
              "      <td>0.10100</td>\n",
              "      <td>['MAMAMOO']</td>\n",
              "      <td>0.634</td>\n",
              "      <td>211280</td>\n",
              "      <td>0.858</td>\n",
              "      <td>0</td>\n",
              "      <td>4BZXVFYCb76Q0Klojq4piV</td>\n",
              "      <td>0.000009</td>\n",
              "      <td>4</td>\n",
              "      <td>0.2580</td>\n",
              "      <td>-2.226</td>\n",
              "      <td>0</td>\n",
              "      <td>AYA</td>\n",
              "      <td>76</td>\n",
              "      <td>2020-11-03</td>\n",
              "      <td>0.0809</td>\n",
              "      <td>91.688</td>\n",
              "    </tr>\n",
              "    <tr>\n",
              "      <th>170651</th>\n",
              "      <td>0.195</td>\n",
              "      <td>2020</td>\n",
              "      <td>0.00998</td>\n",
              "      <td>['Eminem']</td>\n",
              "      <td>0.671</td>\n",
              "      <td>337147</td>\n",
              "      <td>0.623</td>\n",
              "      <td>1</td>\n",
              "      <td>5SiZJoLXp3WOl3J4C8IK0d</td>\n",
              "      <td>0.000008</td>\n",
              "      <td>2</td>\n",
              "      <td>0.6430</td>\n",
              "      <td>-7.161</td>\n",
              "      <td>1</td>\n",
              "      <td>Darkness</td>\n",
              "      <td>70</td>\n",
              "      <td>2020-01-17</td>\n",
              "      <td>0.3080</td>\n",
              "      <td>75.055</td>\n",
              "    </tr>\n",
              "    <tr>\n",
              "      <th>170652</th>\n",
              "      <td>0.642</td>\n",
              "      <td>2020</td>\n",
              "      <td>0.13200</td>\n",
              "      <td>['KEVVO', 'J Balvin']</td>\n",
              "      <td>0.856</td>\n",
              "      <td>189507</td>\n",
              "      <td>0.721</td>\n",
              "      <td>1</td>\n",
              "      <td>7HmnJHfs0BkFzX4x8j0hkl</td>\n",
              "      <td>0.004710</td>\n",
              "      <td>7</td>\n",
              "      <td>0.1820</td>\n",
              "      <td>-4.928</td>\n",
              "      <td>1</td>\n",
              "      <td>Billetes Azules (with J Balvin)</td>\n",
              "      <td>74</td>\n",
              "      <td>2020-10-16</td>\n",
              "      <td>0.1080</td>\n",
              "      <td>94.991</td>\n",
              "    </tr>\n",
              "  </tbody>\n",
              "</table>\n",
              "</div>\n",
              "    <div class=\"colab-df-buttons\">\n",
              "\n",
              "  <div class=\"colab-df-container\">\n",
              "    <button class=\"colab-df-convert\" onclick=\"convertToInteractive('df-af41ff4b-9f30-4f40-a7f0-f7569111fad1')\"\n",
              "            title=\"Convert this dataframe to an interactive table.\"\n",
              "            style=\"display:none;\">\n",
              "\n",
              "  <svg xmlns=\"http://www.w3.org/2000/svg\" height=\"24px\" viewBox=\"0 -960 960 960\">\n",
              "    <path d=\"M120-120v-720h720v720H120Zm60-500h600v-160H180v160Zm220 220h160v-160H400v160Zm0 220h160v-160H400v160ZM180-400h160v-160H180v160Zm440 0h160v-160H620v160ZM180-180h160v-160H180v160Zm440 0h160v-160H620v160Z\"/>\n",
              "  </svg>\n",
              "    </button>\n",
              "\n",
              "  <style>\n",
              "    .colab-df-container {\n",
              "      display:flex;\n",
              "      gap: 12px;\n",
              "    }\n",
              "\n",
              "    .colab-df-convert {\n",
              "      background-color: #E8F0FE;\n",
              "      border: none;\n",
              "      border-radius: 50%;\n",
              "      cursor: pointer;\n",
              "      display: none;\n",
              "      fill: #1967D2;\n",
              "      height: 32px;\n",
              "      padding: 0 0 0 0;\n",
              "      width: 32px;\n",
              "    }\n",
              "\n",
              "    .colab-df-convert:hover {\n",
              "      background-color: #E2EBFA;\n",
              "      box-shadow: 0px 1px 2px rgba(60, 64, 67, 0.3), 0px 1px 3px 1px rgba(60, 64, 67, 0.15);\n",
              "      fill: #174EA6;\n",
              "    }\n",
              "\n",
              "    .colab-df-buttons div {\n",
              "      margin-bottom: 4px;\n",
              "    }\n",
              "\n",
              "    [theme=dark] .colab-df-convert {\n",
              "      background-color: #3B4455;\n",
              "      fill: #D2E3FC;\n",
              "    }\n",
              "\n",
              "    [theme=dark] .colab-df-convert:hover {\n",
              "      background-color: #434B5C;\n",
              "      box-shadow: 0px 1px 3px 1px rgba(0, 0, 0, 0.15);\n",
              "      filter: drop-shadow(0px 1px 2px rgba(0, 0, 0, 0.3));\n",
              "      fill: #FFFFFF;\n",
              "    }\n",
              "  </style>\n",
              "\n",
              "    <script>\n",
              "      const buttonEl =\n",
              "        document.querySelector('#df-af41ff4b-9f30-4f40-a7f0-f7569111fad1 button.colab-df-convert');\n",
              "      buttonEl.style.display =\n",
              "        google.colab.kernel.accessAllowed ? 'block' : 'none';\n",
              "\n",
              "      async function convertToInteractive(key) {\n",
              "        const element = document.querySelector('#df-af41ff4b-9f30-4f40-a7f0-f7569111fad1');\n",
              "        const dataTable =\n",
              "          await google.colab.kernel.invokeFunction('convertToInteractive',\n",
              "                                                    [key], {});\n",
              "        if (!dataTable) return;\n",
              "\n",
              "        const docLinkHtml = 'Like what you see? Visit the ' +\n",
              "          '<a target=\"_blank\" href=https://colab.research.google.com/notebooks/data_table.ipynb>data table notebook</a>'\n",
              "          + ' to learn more about interactive tables.';\n",
              "        element.innerHTML = '';\n",
              "        dataTable['output_type'] = 'display_data';\n",
              "        await google.colab.output.renderOutput(dataTable, element);\n",
              "        const docLink = document.createElement('div');\n",
              "        docLink.innerHTML = docLinkHtml;\n",
              "        element.appendChild(docLink);\n",
              "      }\n",
              "    </script>\n",
              "  </div>\n",
              "\n",
              "\n",
              "<div id=\"df-22644d87-ad03-43ff-af9c-da8db0c17851\">\n",
              "  <button class=\"colab-df-quickchart\" onclick=\"quickchart('df-22644d87-ad03-43ff-af9c-da8db0c17851')\"\n",
              "            title=\"Suggest charts.\"\n",
              "            style=\"display:none;\">\n",
              "\n",
              "<svg xmlns=\"http://www.w3.org/2000/svg\" height=\"24px\"viewBox=\"0 0 24 24\"\n",
              "     width=\"24px\">\n",
              "    <g>\n",
              "        <path d=\"M19 3H5c-1.1 0-2 .9-2 2v14c0 1.1.9 2 2 2h14c1.1 0 2-.9 2-2V5c0-1.1-.9-2-2-2zM9 17H7v-7h2v7zm4 0h-2V7h2v10zm4 0h-2v-4h2v4z\"/>\n",
              "    </g>\n",
              "</svg>\n",
              "  </button>\n",
              "\n",
              "<style>\n",
              "  .colab-df-quickchart {\n",
              "      --bg-color: #E8F0FE;\n",
              "      --fill-color: #1967D2;\n",
              "      --hover-bg-color: #E2EBFA;\n",
              "      --hover-fill-color: #174EA6;\n",
              "      --disabled-fill-color: #AAA;\n",
              "      --disabled-bg-color: #DDD;\n",
              "  }\n",
              "\n",
              "  [theme=dark] .colab-df-quickchart {\n",
              "      --bg-color: #3B4455;\n",
              "      --fill-color: #D2E3FC;\n",
              "      --hover-bg-color: #434B5C;\n",
              "      --hover-fill-color: #FFFFFF;\n",
              "      --disabled-bg-color: #3B4455;\n",
              "      --disabled-fill-color: #666;\n",
              "  }\n",
              "\n",
              "  .colab-df-quickchart {\n",
              "    background-color: var(--bg-color);\n",
              "    border: none;\n",
              "    border-radius: 50%;\n",
              "    cursor: pointer;\n",
              "    display: none;\n",
              "    fill: var(--fill-color);\n",
              "    height: 32px;\n",
              "    padding: 0;\n",
              "    width: 32px;\n",
              "  }\n",
              "\n",
              "  .colab-df-quickchart:hover {\n",
              "    background-color: var(--hover-bg-color);\n",
              "    box-shadow: 0 1px 2px rgba(60, 64, 67, 0.3), 0 1px 3px 1px rgba(60, 64, 67, 0.15);\n",
              "    fill: var(--button-hover-fill-color);\n",
              "  }\n",
              "\n",
              "  .colab-df-quickchart-complete:disabled,\n",
              "  .colab-df-quickchart-complete:disabled:hover {\n",
              "    background-color: var(--disabled-bg-color);\n",
              "    fill: var(--disabled-fill-color);\n",
              "    box-shadow: none;\n",
              "  }\n",
              "\n",
              "  .colab-df-spinner {\n",
              "    border: 2px solid var(--fill-color);\n",
              "    border-color: transparent;\n",
              "    border-bottom-color: var(--fill-color);\n",
              "    animation:\n",
              "      spin 1s steps(1) infinite;\n",
              "  }\n",
              "\n",
              "  @keyframes spin {\n",
              "    0% {\n",
              "      border-color: transparent;\n",
              "      border-bottom-color: var(--fill-color);\n",
              "      border-left-color: var(--fill-color);\n",
              "    }\n",
              "    20% {\n",
              "      border-color: transparent;\n",
              "      border-left-color: var(--fill-color);\n",
              "      border-top-color: var(--fill-color);\n",
              "    }\n",
              "    30% {\n",
              "      border-color: transparent;\n",
              "      border-left-color: var(--fill-color);\n",
              "      border-top-color: var(--fill-color);\n",
              "      border-right-color: var(--fill-color);\n",
              "    }\n",
              "    40% {\n",
              "      border-color: transparent;\n",
              "      border-right-color: var(--fill-color);\n",
              "      border-top-color: var(--fill-color);\n",
              "    }\n",
              "    60% {\n",
              "      border-color: transparent;\n",
              "      border-right-color: var(--fill-color);\n",
              "    }\n",
              "    80% {\n",
              "      border-color: transparent;\n",
              "      border-right-color: var(--fill-color);\n",
              "      border-bottom-color: var(--fill-color);\n",
              "    }\n",
              "    90% {\n",
              "      border-color: transparent;\n",
              "      border-bottom-color: var(--fill-color);\n",
              "    }\n",
              "  }\n",
              "</style>\n",
              "\n",
              "  <script>\n",
              "    async function quickchart(key) {\n",
              "      const quickchartButtonEl =\n",
              "        document.querySelector('#' + key + ' button');\n",
              "      quickchartButtonEl.disabled = true;  // To prevent multiple clicks.\n",
              "      quickchartButtonEl.classList.add('colab-df-spinner');\n",
              "      try {\n",
              "        const charts = await google.colab.kernel.invokeFunction(\n",
              "            'suggestCharts', [key], {});\n",
              "      } catch (error) {\n",
              "        console.error('Error during call to suggestCharts:', error);\n",
              "      }\n",
              "      quickchartButtonEl.classList.remove('colab-df-spinner');\n",
              "      quickchartButtonEl.classList.add('colab-df-quickchart-complete');\n",
              "    }\n",
              "    (() => {\n",
              "      let quickchartButtonEl =\n",
              "        document.querySelector('#df-22644d87-ad03-43ff-af9c-da8db0c17851 button');\n",
              "      quickchartButtonEl.style.display =\n",
              "        google.colab.kernel.accessAllowed ? 'block' : 'none';\n",
              "    })();\n",
              "  </script>\n",
              "</div>\n",
              "    </div>\n",
              "  </div>\n"
            ]
          },
          "metadata": {},
          "execution_count": 9
        }
      ]
    },
    {
      "cell_type": "code",
      "source": [
        "# importing modules and packages\n",
        "import pandas as pd\n",
        "import numpy as np\n",
        "import matplotlib.pyplot as plt\n",
        "import seaborn as sns\n",
        "from sklearn.model_selection import train_test_split\n",
        "from sklearn.linear_model import LinearRegression\n",
        "from sklearn.metrics import mean_squared_error, mean_absolute_error\n",
        "from sklearn import preprocessing"
      ],
      "metadata": {
        "id": "s6kVm0baoa8s"
      },
      "execution_count": null,
      "outputs": []
    },
    {
      "cell_type": "code",
      "source": [
        "df['year'] = df['year'].astype(int)\n",
        "print (df.dtypes)"
      ],
      "metadata": {
        "colab": {
          "base_uri": "https://localhost:8080/"
        },
        "id": "RiSUT7UQZC70",
        "outputId": "5c550f8e-605d-4bd3-c151-3f7d7c0b10e6"
      },
      "execution_count": null,
      "outputs": [
        {
          "output_type": "stream",
          "name": "stdout",
          "text": [
            "valence             float64\n",
            "year                  int64\n",
            "acousticness        float64\n",
            "artists              object\n",
            "danceability        float64\n",
            "duration_ms           int64\n",
            "energy              float64\n",
            "explicit              int64\n",
            "id                   object\n",
            "instrumentalness    float64\n",
            "key                   int64\n",
            "liveness            float64\n",
            "loudness            float64\n",
            "mode                  int64\n",
            "name                 object\n",
            "popularity            int64\n",
            "release_date         object\n",
            "speechiness         float64\n",
            "tempo               float64\n",
            "dtype: object\n"
          ]
        }
      ]
    },
    {
      "cell_type": "code",
      "source": [
        "# artists_length = list(df['artists'].str.len())\n",
        "# x = list(df['artists'])\n",
        "# artists_length = [len(i) for i in x]\n",
        "\n",
        "x = list(df['artists'])\n",
        "artists_number = [len(i.split(\",\")) for i in x]\n",
        "df[\"artists_number\"] = artists_number\n",
        "\n",
        "type(artists_number)\n",
        "\n",
        "# artists_number"
      ],
      "metadata": {
        "colab": {
          "base_uri": "https://localhost:8080/"
        },
        "id": "tp34hfAubzqC",
        "outputId": "51f500f0-54b7-4ad6-9153-fa082d462ed7"
      },
      "execution_count": null,
      "outputs": [
        {
          "output_type": "execute_result",
          "data": {
            "text/plain": [
              "list"
            ]
          },
          "metadata": {},
          "execution_count": 12
        }
      ]
    },
    {
      "cell_type": "code",
      "source": [
        "max_value = max(artists_number)\n",
        "max_index = artists_number.index(max_value)\n",
        "\n",
        "print(max_value)\n",
        "print(max_index)"
      ],
      "metadata": {
        "colab": {
          "base_uri": "https://localhost:8080/"
        },
        "id": "yN4DrPvPfnMZ",
        "outputId": "ef82cddf-6957-4628-ae91-ab67b4fe7f2c"
      },
      "execution_count": null,
      "outputs": [
        {
          "output_type": "stream",
          "name": "stdout",
          "text": [
            "40\n",
            "15969\n"
          ]
        }
      ]
    },
    {
      "cell_type": "code",
      "source": [
        "df.iloc[[max_index]]"
      ],
      "metadata": {
        "colab": {
          "base_uri": "https://localhost:8080/",
          "height": 205
        },
        "id": "ZoOnx5POgvhx",
        "outputId": "7ca428bf-d506-4989-b649-a455d98d5981"
      },
      "execution_count": null,
      "outputs": [
        {
          "output_type": "execute_result",
          "data": {
            "text/plain": [
              "       valence  year  acousticness  \\\n",
              "15969    0.285  2001         0.641   \n",
              "\n",
              "                                                 artists  danceability  \\\n",
              "15969  ['Ricky Martin', 'Alejandro Sanz', 'Thalia', '...         0.276   \n",
              "\n",
              "       duration_ms  energy  explicit                      id  \\\n",
              "15969       237467   0.572         0  0tzixmHNQfE6S6SirSToxW   \n",
              "\n",
              "       instrumentalness  key  liveness  loudness  mode  \\\n",
              "15969               0.0    1       0.2    -7.818     1   \n",
              "\n",
              "                                             name  popularity release_date  \\\n",
              "15969  El Ultimo AdiÃ³s - Varios Artistas Version          68   2001-11-21   \n",
              "\n",
              "       speechiness   tempo  artists_number  \n",
              "15969       0.0377  77.986              40  "
            ],
            "text/html": [
              "\n",
              "  <div id=\"df-55007447-7364-4b00-a8f1-cc39373e5fc3\" class=\"colab-df-container\">\n",
              "    <div>\n",
              "<style scoped>\n",
              "    .dataframe tbody tr th:only-of-type {\n",
              "        vertical-align: middle;\n",
              "    }\n",
              "\n",
              "    .dataframe tbody tr th {\n",
              "        vertical-align: top;\n",
              "    }\n",
              "\n",
              "    .dataframe thead th {\n",
              "        text-align: right;\n",
              "    }\n",
              "</style>\n",
              "<table border=\"1\" class=\"dataframe\">\n",
              "  <thead>\n",
              "    <tr style=\"text-align: right;\">\n",
              "      <th></th>\n",
              "      <th>valence</th>\n",
              "      <th>year</th>\n",
              "      <th>acousticness</th>\n",
              "      <th>artists</th>\n",
              "      <th>danceability</th>\n",
              "      <th>duration_ms</th>\n",
              "      <th>energy</th>\n",
              "      <th>explicit</th>\n",
              "      <th>id</th>\n",
              "      <th>instrumentalness</th>\n",
              "      <th>key</th>\n",
              "      <th>liveness</th>\n",
              "      <th>loudness</th>\n",
              "      <th>mode</th>\n",
              "      <th>name</th>\n",
              "      <th>popularity</th>\n",
              "      <th>release_date</th>\n",
              "      <th>speechiness</th>\n",
              "      <th>tempo</th>\n",
              "      <th>artists_number</th>\n",
              "    </tr>\n",
              "  </thead>\n",
              "  <tbody>\n",
              "    <tr>\n",
              "      <th>15969</th>\n",
              "      <td>0.285</td>\n",
              "      <td>2001</td>\n",
              "      <td>0.641</td>\n",
              "      <td>['Ricky Martin', 'Alejandro Sanz', 'Thalia', '...</td>\n",
              "      <td>0.276</td>\n",
              "      <td>237467</td>\n",
              "      <td>0.572</td>\n",
              "      <td>0</td>\n",
              "      <td>0tzixmHNQfE6S6SirSToxW</td>\n",
              "      <td>0.0</td>\n",
              "      <td>1</td>\n",
              "      <td>0.2</td>\n",
              "      <td>-7.818</td>\n",
              "      <td>1</td>\n",
              "      <td>El Ultimo AdiÃ³s - Varios Artistas Version</td>\n",
              "      <td>68</td>\n",
              "      <td>2001-11-21</td>\n",
              "      <td>0.0377</td>\n",
              "      <td>77.986</td>\n",
              "      <td>40</td>\n",
              "    </tr>\n",
              "  </tbody>\n",
              "</table>\n",
              "</div>\n",
              "    <div class=\"colab-df-buttons\">\n",
              "\n",
              "  <div class=\"colab-df-container\">\n",
              "    <button class=\"colab-df-convert\" onclick=\"convertToInteractive('df-55007447-7364-4b00-a8f1-cc39373e5fc3')\"\n",
              "            title=\"Convert this dataframe to an interactive table.\"\n",
              "            style=\"display:none;\">\n",
              "\n",
              "  <svg xmlns=\"http://www.w3.org/2000/svg\" height=\"24px\" viewBox=\"0 -960 960 960\">\n",
              "    <path d=\"M120-120v-720h720v720H120Zm60-500h600v-160H180v160Zm220 220h160v-160H400v160Zm0 220h160v-160H400v160ZM180-400h160v-160H180v160Zm440 0h160v-160H620v160ZM180-180h160v-160H180v160Zm440 0h160v-160H620v160Z\"/>\n",
              "  </svg>\n",
              "    </button>\n",
              "\n",
              "  <style>\n",
              "    .colab-df-container {\n",
              "      display:flex;\n",
              "      gap: 12px;\n",
              "    }\n",
              "\n",
              "    .colab-df-convert {\n",
              "      background-color: #E8F0FE;\n",
              "      border: none;\n",
              "      border-radius: 50%;\n",
              "      cursor: pointer;\n",
              "      display: none;\n",
              "      fill: #1967D2;\n",
              "      height: 32px;\n",
              "      padding: 0 0 0 0;\n",
              "      width: 32px;\n",
              "    }\n",
              "\n",
              "    .colab-df-convert:hover {\n",
              "      background-color: #E2EBFA;\n",
              "      box-shadow: 0px 1px 2px rgba(60, 64, 67, 0.3), 0px 1px 3px 1px rgba(60, 64, 67, 0.15);\n",
              "      fill: #174EA6;\n",
              "    }\n",
              "\n",
              "    .colab-df-buttons div {\n",
              "      margin-bottom: 4px;\n",
              "    }\n",
              "\n",
              "    [theme=dark] .colab-df-convert {\n",
              "      background-color: #3B4455;\n",
              "      fill: #D2E3FC;\n",
              "    }\n",
              "\n",
              "    [theme=dark] .colab-df-convert:hover {\n",
              "      background-color: #434B5C;\n",
              "      box-shadow: 0px 1px 3px 1px rgba(0, 0, 0, 0.15);\n",
              "      filter: drop-shadow(0px 1px 2px rgba(0, 0, 0, 0.3));\n",
              "      fill: #FFFFFF;\n",
              "    }\n",
              "  </style>\n",
              "\n",
              "    <script>\n",
              "      const buttonEl =\n",
              "        document.querySelector('#df-55007447-7364-4b00-a8f1-cc39373e5fc3 button.colab-df-convert');\n",
              "      buttonEl.style.display =\n",
              "        google.colab.kernel.accessAllowed ? 'block' : 'none';\n",
              "\n",
              "      async function convertToInteractive(key) {\n",
              "        const element = document.querySelector('#df-55007447-7364-4b00-a8f1-cc39373e5fc3');\n",
              "        const dataTable =\n",
              "          await google.colab.kernel.invokeFunction('convertToInteractive',\n",
              "                                                    [key], {});\n",
              "        if (!dataTable) return;\n",
              "\n",
              "        const docLinkHtml = 'Like what you see? Visit the ' +\n",
              "          '<a target=\"_blank\" href=https://colab.research.google.com/notebooks/data_table.ipynb>data table notebook</a>'\n",
              "          + ' to learn more about interactive tables.';\n",
              "        element.innerHTML = '';\n",
              "        dataTable['output_type'] = 'display_data';\n",
              "        await google.colab.output.renderOutput(dataTable, element);\n",
              "        const docLink = document.createElement('div');\n",
              "        docLink.innerHTML = docLinkHtml;\n",
              "        element.appendChild(docLink);\n",
              "      }\n",
              "    </script>\n",
              "  </div>\n",
              "\n",
              "    </div>\n",
              "  </div>\n"
            ]
          },
          "metadata": {},
          "execution_count": 14
        }
      ]
    },
    {
      "cell_type": "code",
      "source": [
        "from matplotlib import pyplot as plt\n",
        "\n",
        "plt.hist(artists_number, 40)\n",
        "\n",
        "plt.show()"
      ],
      "metadata": {
        "colab": {
          "base_uri": "https://localhost:8080/",
          "height": 430
        },
        "id": "8D_OYor-hi2V",
        "outputId": "a77018fe-8c54-4799-fde4-f25d504885fa"
      },
      "execution_count": null,
      "outputs": [
        {
          "output_type": "display_data",
          "data": {
            "text/plain": [
              "<Figure size 640x480 with 1 Axes>"
            ],
            "image/png": "[encoded data removed]"
          },
          "metadata": {}
        }
      ]
    },
    {
      "cell_type": "code",
      "source": [
        "# artists_number\n",
        "\n",
        "# selecting rows based on condition\n",
        "rslt_df = df[df[\"artists_number\"] == 1]\n",
        "\n",
        "# print('\\nResult dataframe :\\n', rslt_df)\n",
        "\n",
        "df = df.reset_index(drop=True)"
      ],
      "metadata": {
        "id": "C7YLqkW7h7Zs"
      },
      "execution_count": null,
      "outputs": []
    },
    {
      "cell_type": "code",
      "source": [
        "rslt_df['artists'][1]"
      ],
      "metadata": {
        "colab": {
          "base_uri": "https://localhost:8080/",
          "height": 36
        },
        "id": "RSIOo5fvpUdn",
        "outputId": "9243ca73-1bb5-4f4a-99b3-ceba878e21cf"
      },
      "execution_count": null,
      "outputs": [
        {
          "output_type": "execute_result",
          "data": {
            "text/plain": [
              "\"['Dennis Day']\""
            ],
            "application/vnd.google.colaboratory.intrinsic+json": {
              "type": "string"
            }
          },
          "metadata": {},
          "execution_count": 17
        }
      ]
    },
    {
      "cell_type": "code",
      "source": [
        "# convert strings to lists in artists column (make sure its just the names [dennis day])\n",
        "\n",
        "artist_names = rslt_df['artists'].tolist()"
      ],
      "metadata": {
        "id": "BFDElwf0pu-K"
      },
      "execution_count": null,
      "outputs": []
    },
    {
      "cell_type": "code",
      "source": [
        "# convert names to numbers (mepping/label encoding strings to numbers)\n",
        "\n",
        "from sklearn import preprocessing\n",
        "\n",
        "# label_encoder object knows how to understand word labels.\n",
        "label_encoder = preprocessing.LabelEncoder()\n",
        "\n",
        "# Encode labels in column.\n",
        "rslt_df['artists_names'] = label_encoder.fit_transform(artist_names)\n",
        "\n",
        "rslt_df['artists_names'].unique()"
      ],
      "metadata": {
        "colab": {
          "base_uri": "https://localhost:8080/"
        },
        "id": "mFuo4KFaSxvs",
        "outputId": "aeb9b6f3-0999-4c16-8a8b-ec5ed9febbdd"
      },
      "execution_count": null,
      "outputs": [
        {
          "output_type": "execute_result",
          "data": {
            "text/plain": [
              "array([ 3931,  7890,  5302, ...,  3171,  8407, 10762])"
            ]
          },
          "metadata": {},
          "execution_count": 19
        }
      ]
    },
    {
      "cell_type": "code",
      "source": [
        "# feed into model"
      ],
      "metadata": {
        "id": "WOLpetctS1qI"
      },
      "execution_count": null,
      "outputs": []
    },
    {
      "cell_type": "code",
      "source": [
        "# creating feature variables\n",
        "x = rslt_df.drop(['popularity', 'name', 'artists', 'id', 'release_date', 'artists_number'], axis= 1)\n",
        "\n",
        "# come back to the artists column later\n",
        "\n",
        "y = rslt_df['popularity']\n",
        "print(x)\n",
        "# print(y)"
      ],
      "metadata": {
        "colab": {
          "base_uri": "https://localhost:8080/"
        },
        "id": "SNWfWghsnOj8",
        "outputId": "a1814172-ddb6-48e9-bb52-3226ee9d9dcb"
      },
      "execution_count": null,
      "outputs": [
        {
          "output_type": "stream",
          "name": "stdout",
          "text": [
            "        valence  year  acousticness  danceability  duration_ms   energy  \\\n",
            "1        0.9630  1921       0.73200         0.819       180533  0.34100   \n",
            "2        0.0394  1921       0.96100         0.328       500062  0.16600   \n",
            "3        0.1650  1921       0.96700         0.275       210000  0.30900   \n",
            "4        0.2530  1921       0.95700         0.418       166693  0.19300   \n",
            "5        0.1960  1921       0.57900         0.697       395076  0.34600   \n",
            "...         ...   ...           ...           ...          ...      ...   \n",
            "170646   0.5220  2020       0.20400         0.598       230600  0.47200   \n",
            "170647   0.0838  2020       0.97400         0.175       133500  0.00759   \n",
            "170649   0.7340  2020       0.20600         0.717       150654  0.75300   \n",
            "170650   0.6370  2020       0.10100         0.634       211280  0.85800   \n",
            "170651   0.1950  2020       0.00998         0.671       337147  0.62300   \n",
            "\n",
            "        explicit  instrumentalness  key  liveness  loudness  mode  \\\n",
            "1              0          0.000000    7     0.160   -12.441     1   \n",
            "2              0          0.913000    3     0.101   -14.850     1   \n",
            "3              0          0.000028    5     0.381    -9.316     1   \n",
            "4              0          0.000002    3     0.229   -10.096     1   \n",
            "5              0          0.168000    2     0.130   -12.506     1   \n",
            "...          ...               ...  ...       ...       ...   ...   \n",
            "170646         1          0.000015    0     0.108   -10.991     1   \n",
            "170647         0          0.925000    7     0.113   -35.072     1   \n",
            "170649         0          0.000000    7     0.101    -6.020     1   \n",
            "170650         0          0.000009    4     0.258    -2.226     0   \n",
            "170651         1          0.000008    2     0.643    -7.161     1   \n",
            "\n",
            "        speechiness    tempo  artists_names  \n",
            "1            0.4150   60.936           3931  \n",
            "2            0.0339  110.339           7890  \n",
            "3            0.0354  100.109           5302  \n",
            "4            0.0380  101.665          11789  \n",
            "5            0.0700  119.824           7890  \n",
            "...             ...      ...            ...  \n",
            "170646       0.2580  120.080           6069  \n",
            "170647       0.0454   70.872          10762  \n",
            "170649       0.0605  137.936           1244  \n",
            "170650       0.0809   91.688           9485  \n",
            "170651       0.3080   75.055           4757  \n",
            "\n",
            "[135433 rows x 15 columns]\n"
          ]
        }
      ]
    },
    {
      "cell_type": "code",
      "source": [
        "# creating train and test sets\n",
        "X_train, X_test, y_train, y_test = train_test_split(\n",
        "\tx, y, test_size=0.3, random_state=101)\n"
      ],
      "metadata": {
        "id": "mbkbtHTLok91"
      },
      "execution_count": null,
      "outputs": []
    },
    {
      "cell_type": "code",
      "source": [
        "# creating a regression model\n",
        "model = LinearRegression()\n",
        "\n",
        "# fitting the model\n",
        "model.fit(X_train,y_train)\n"
      ],
      "metadata": {
        "id": "0BxknnIvoo0C",
        "colab": {
          "base_uri": "https://localhost:8080/",
          "height": 74
        },
        "outputId": "cd083869-15ab-465f-98ed-b02caa7923d6"
      },
      "execution_count": null,
      "outputs": [
        {
          "output_type": "execute_result",
          "data": {
            "text/plain": [
              "LinearRegression()"
            ],
            "text/html": [
              "<style>#sk-container-id-1 {color: black;background-color: white;}#sk-container-id-1 pre{padding: 0;}#sk-container-id-1 div.sk-toggleable {background-color: white;}#sk-container-id-1 label.sk-toggleable__label {cursor: pointer;display: block;width: 100%;margin-bottom: 0;padding: 0.3em;box-sizing: border-box;text-align: center;}#sk-container-id-1 label.sk-toggleable__label-arrow:before {content: \"▸\";float: left;margin-right: 0.25em;color: #696969;}#sk-container-id-1 label.sk-toggleable__label-arrow:hover:before {color: black;}#sk-container-id-1 div.sk-estimator:hover label.sk-toggleable__label-arrow:before {color: black;}#sk-container-id-1 div.sk-toggleable__content {max-height: 0;max-width: 0;overflow: hidden;text-align: left;background-color: #f0f8ff;}#sk-container-id-1 div.sk-toggleable__content pre {margin: 0.2em;color: black;border-radius: 0.25em;background-color: #f0f8ff;}#sk-container-id-1 input.sk-toggleable__control:checked~div.sk-toggleable__content {max-height: 200px;max-width: 100%;overflow: auto;}#sk-container-id-1 input.sk-toggleable__control:checked~label.sk-toggleable__label-arrow:before {content: \"▾\";}#sk-container-id-1 div.sk-estimator input.sk-toggleable__control:checked~label.sk-toggleable__label {background-color: #d4ebff;}#sk-container-id-1 div.sk-label input.sk-toggleable__control:checked~label.sk-toggleable__label {background-color: #d4ebff;}#sk-container-id-1 input.sk-hidden--visually {border: 0;clip: rect(1px 1px 1px 1px);clip: rect(1px, 1px, 1px, 1px);height: 1px;margin: -1px;overflow: hidden;padding: 0;position: absolute;width: 1px;}#sk-container-id-1 div.sk-estimator {font-family: monospace;background-color: #f0f8ff;border: 1px dotted black;border-radius: 0.25em;box-sizing: border-box;margin-bottom: 0.5em;}#sk-container-id-1 div.sk-estimator:hover {background-color: #d4ebff;}#sk-container-id-1 div.sk-parallel-item::after {content: \"\";width: 100%;border-bottom: 1px solid gray;flex-grow: 1;}#sk-container-id-1 div.sk-label:hover label.sk-toggleable__label {background-color: #d4ebff;}#sk-container-id-1 div.sk-serial::before {content: \"\";position: absolute;border-left: 1px solid gray;box-sizing: border-box;top: 0;bottom: 0;left: 50%;z-index: 0;}#sk-container-id-1 div.sk-serial {display: flex;flex-direction: column;align-items: center;background-color: white;padding-right: 0.2em;padding-left: 0.2em;position: relative;}#sk-container-id-1 div.sk-item {position: relative;z-index: 1;}#sk-container-id-1 div.sk-parallel {display: flex;align-items: stretch;justify-content: center;background-color: white;position: relative;}#sk-container-id-1 div.sk-item::before, #sk-container-id-1 div.sk-parallel-item::before {content: \"\";position: absolute;border-left: 1px solid gray;box-sizing: border-box;top: 0;bottom: 0;left: 50%;z-index: -1;}#sk-container-id-1 div.sk-parallel-item {display: flex;flex-direction: column;z-index: 1;position: relative;background-color: white;}#sk-container-id-1 div.sk-parallel-item:first-child::after {align-self: flex-end;width: 50%;}#sk-container-id-1 div.sk-parallel-item:last-child::after {align-self: flex-start;width: 50%;}#sk-container-id-1 div.sk-parallel-item:only-child::after {width: 0;}#sk-container-id-1 div.sk-dashed-wrapped {border: 1px dashed gray;margin: 0 0.4em 0.5em 0.4em;box-sizing: border-box;padding-bottom: 0.4em;background-color: white;}#sk-container-id-1 div.sk-label label {font-family: monospace;font-weight: bold;display: inline-block;line-height: 1.2em;}#sk-container-id-1 div.sk-label-container {text-align: center;}#sk-container-id-1 div.sk-container {/* jupyter's `normalize.less` sets `[hidden] { display: none; }` but bootstrap.min.css set `[hidden] { display: none !important; }` so we also need the `!important` here to be able to override the default hidden behavior on the sphinx rendered scikit-learn.org. See: https://github.com/scikit-learn/scikit-learn/issues/21755 */display: inline-block !important;position: relative;}#sk-container-id-1 div.sk-text-repr-fallback {display: none;}</style><div id=\"sk-container-id-1\" class=\"sk-top-container\"><div class=\"sk-text-repr-fallback\"><pre>LinearRegression()</pre><b>In a Jupyter environment, please rerun this cell to show the HTML representation or trust the notebook. <br />On GitHub, the HTML representation is unable to render, please try loading this page with nbviewer.org.</b></div><div class=\"sk-container\" hidden><div class=\"sk-item\"><div class=\"sk-estimator sk-toggleable\"><input class=\"sk-toggleable__control sk-hidden--visually\" id=\"sk-estimator-id-1\" type=\"checkbox\" checked><label for=\"sk-estimator-id-1\" class=\"sk-toggleable__label sk-toggleable__label-arrow\">LinearRegression</label><div class=\"sk-toggleable__content\"><pre>LinearRegression()</pre></div></div></div></div></div>"
            ]
          },
          "metadata": {},
          "execution_count": 23
        }
      ]
    },
    {
      "cell_type": "code",
      "source": [
        "# making predictions\n",
        "predictions = model.predict(X_test)"
      ],
      "metadata": {
        "id": "-qvNRUAQBOxl"
      },
      "execution_count": null,
      "outputs": []
    },
    {
      "cell_type": "code",
      "source": [
        "model.score(X_train, y_train)"
      ],
      "metadata": {
        "colab": {
          "base_uri": "https://localhost:8080/"
        },
        "id": "cwNxjcfFEX29",
        "outputId": "12f57f69-e2f5-4d6f-e02b-e654b01f6444"
      },
      "execution_count": null,
      "outputs": [
        {
          "output_type": "execute_result",
          "data": {
            "text/plain": [
              "0.719035418605307"
            ]
          },
          "metadata": {},
          "execution_count": 25
        }
      ]
    },
    {
      "cell_type": "code",
      "source": [
        "sns.scatterplot(x= y_test, y= predictions)"
      ],
      "metadata": {
        "colab": {
          "base_uri": "https://localhost:8080/",
          "height": 466
        },
        "id": "tXMGqGioDLDy",
        "outputId": "ddfbb22d-b610-415e-eb3d-4d16c0c4a91d"
      },
      "execution_count": null,
      "outputs": [
        {
          "output_type": "execute_result",
          "data": {
            "text/plain": [
              "<Axes: xlabel='popularity'>"
            ]
          },
          "metadata": {},
          "execution_count": 26
        },
        {
          "output_type": "display_data",
          "data": {
            "text/plain": [
              "<Figure size 640x480 with 1 Axes>"
            ],
            "image/png": "[encoded data removed]"
          },
          "metadata": {}
        }
      ]
    },
    {
      "cell_type": "code",
      "source": [
        "def MAPE(Y_actual,Y_Predicted):\n",
        "    mape = np.mean(np.abs((Y_actual - Y_Predicted)/Y_actual))*100\n",
        "    return mape\n",
        "\n",
        "y_test = y_test.to_numpy()\n",
        "MAPE(y_test, predictions)"
      ],
      "metadata": {
        "colab": {
          "base_uri": "https://localhost:8080/"
        },
        "id": "sbhskmSPCZWZ",
        "outputId": "5e2b23e0-e7dc-4183-8e64-eb872b40b2f5"
      },
      "execution_count": null,
      "outputs": [
        {
          "output_type": "stream",
          "name": "stderr",
          "text": [
            "<ipython-input-27-714b5934545e>:2: RuntimeWarning: divide by zero encountered in divide\n",
            "  mape = np.mean(np.abs((Y_actual - Y_Predicted)/Y_actual))*100\n"
          ]
        },
        {
          "output_type": "execute_result",
          "data": {
            "text/plain": [
              "inf"
            ]
          },
          "metadata": {},
          "execution_count": 27
        }
      ]
    },
    {
      "cell_type": "code",
      "source": [
        "def calculate_smape(actual, predicted) -> float:\n",
        "\n",
        "    # Convert actual and predicted to numpy\n",
        "    # array data type if not already\n",
        "    if not all([isinstance(actual, np.ndarray),\n",
        "                isinstance(predicted, np.ndarray)]):\n",
        "        actual, predicted = np.array(actual), np.array(predicted)\n",
        "\n",
        "    return round(\n",
        "        np.mean(\n",
        "            np.abs(predicted - actual) / ((np.abs(predicted) + np.abs(actual))/2) )*100, 2\n",
        "    )\n",
        "\n",
        "print(calculate_smape(y_test, predictions), \"%\")"
      ],
      "metadata": {
        "id": "ZXrGXIkbQNnI",
        "colab": {
          "base_uri": "https://localhost:8080/"
        },
        "outputId": "ffb62fcd-a54b-47a8-f94e-30673638ef7a"
      },
      "execution_count": null,
      "outputs": [
        {
          "output_type": "stream",
          "name": "stdout",
          "text": [
            "49.36 %\n"
          ]
        }
      ]
    },
    {
      "cell_type": "code",
      "source": [
        "calculate_smape(y_test, predictions)"
      ],
      "metadata": {
        "colab": {
          "base_uri": "https://localhost:8080/"
        },
        "id": "JKNc44Lpd2I4",
        "outputId": "2aecd7d3-aceb-48ce-8ce0-7592e16f2b6d"
      },
      "execution_count": null,
      "outputs": [
        {
          "output_type": "execute_result",
          "data": {
            "text/plain": [
              "49.36"
            ]
          },
          "metadata": {},
          "execution_count": 29
        }
      ]
    },
    {
      "cell_type": "code",
      "source": [
        "# decision tree/random forest for more complex data\n",
        "from sklearn.tree import DecisionTreeRegressor"
      ],
      "metadata": {
        "id": "CJ3kOxnKCc_q"
      },
      "execution_count": null,
      "outputs": []
    },
    {
      "cell_type": "code",
      "source": [
        "# Fit regression model\n",
        "regr_1 = DecisionTreeRegressor()\n",
        "regr_1.fit(X_train, y_train)"
      ],
      "metadata": {
        "colab": {
          "base_uri": "https://localhost:8080/",
          "height": 74
        },
        "id": "FOFrlfd3EYfM",
        "outputId": "de614dfc-5eef-416b-dd07-a15f53c05d37"
      },
      "execution_count": null,
      "outputs": [
        {
          "output_type": "execute_result",
          "data": {
            "text/plain": [
              "DecisionTreeRegressor()"
            ],
            "text/html": [
              "<style>#sk-container-id-2 {color: black;background-color: white;}#sk-container-id-2 pre{padding: 0;}#sk-container-id-2 div.sk-toggleable {background-color: white;}#sk-container-id-2 label.sk-toggleable__label {cursor: pointer;display: block;width: 100%;margin-bottom: 0;padding: 0.3em;box-sizing: border-box;text-align: center;}#sk-container-id-2 label.sk-toggleable__label-arrow:before {content: \"▸\";float: left;margin-right: 0.25em;color: #696969;}#sk-container-id-2 label.sk-toggleable__label-arrow:hover:before {color: black;}#sk-container-id-2 div.sk-estimator:hover label.sk-toggleable__label-arrow:before {color: black;}#sk-container-id-2 div.sk-toggleable__content {max-height: 0;max-width: 0;overflow: hidden;text-align: left;background-color: #f0f8ff;}#sk-container-id-2 div.sk-toggleable__content pre {margin: 0.2em;color: black;border-radius: 0.25em;background-color: #f0f8ff;}#sk-container-id-2 input.sk-toggleable__control:checked~div.sk-toggleable__content {max-height: 200px;max-width: 100%;overflow: auto;}#sk-container-id-2 input.sk-toggleable__control:checked~label.sk-toggleable__label-arrow:before {content: \"▾\";}#sk-container-id-2 div.sk-estimator input.sk-toggleable__control:checked~label.sk-toggleable__label {background-color: #d4ebff;}#sk-container-id-2 div.sk-label input.sk-toggleable__control:checked~label.sk-toggleable__label {background-color: #d4ebff;}#sk-container-id-2 input.sk-hidden--visually {border: 0;clip: rect(1px 1px 1px 1px);clip: rect(1px, 1px, 1px, 1px);height: 1px;margin: -1px;overflow: hidden;padding: 0;position: absolute;width: 1px;}#sk-container-id-2 div.sk-estimator {font-family: monospace;background-color: #f0f8ff;border: 1px dotted black;border-radius: 0.25em;box-sizing: border-box;margin-bottom: 0.5em;}#sk-container-id-2 div.sk-estimator:hover {background-color: #d4ebff;}#sk-container-id-2 div.sk-parallel-item::after {content: \"\";width: 100%;border-bottom: 1px solid gray;flex-grow: 1;}#sk-container-id-2 div.sk-label:hover label.sk-toggleable__label {background-color: #d4ebff;}#sk-container-id-2 div.sk-serial::before {content: \"\";position: absolute;border-left: 1px solid gray;box-sizing: border-box;top: 0;bottom: 0;left: 50%;z-index: 0;}#sk-container-id-2 div.sk-serial {display: flex;flex-direction: column;align-items: center;background-color: white;padding-right: 0.2em;padding-left: 0.2em;position: relative;}#sk-container-id-2 div.sk-item {position: relative;z-index: 1;}#sk-container-id-2 div.sk-parallel {display: flex;align-items: stretch;justify-content: center;background-color: white;position: relative;}#sk-container-id-2 div.sk-item::before, #sk-container-id-2 div.sk-parallel-item::before {content: \"\";position: absolute;border-left: 1px solid gray;box-sizing: border-box;top: 0;bottom: 0;left: 50%;z-index: -1;}#sk-container-id-2 div.sk-parallel-item {display: flex;flex-direction: column;z-index: 1;position: relative;background-color: white;}#sk-container-id-2 div.sk-parallel-item:first-child::after {align-self: flex-end;width: 50%;}#sk-container-id-2 div.sk-parallel-item:last-child::after {align-self: flex-start;width: 50%;}#sk-container-id-2 div.sk-parallel-item:only-child::after {width: 0;}#sk-container-id-2 div.sk-dashed-wrapped {border: 1px dashed gray;margin: 0 0.4em 0.5em 0.4em;box-sizing: border-box;padding-bottom: 0.4em;background-color: white;}#sk-container-id-2 div.sk-label label {font-family: monospace;font-weight: bold;display: inline-block;line-height: 1.2em;}#sk-container-id-2 div.sk-label-container {text-align: center;}#sk-container-id-2 div.sk-container {/* jupyter's `normalize.less` sets `[hidden] { display: none; }` but bootstrap.min.css set `[hidden] { display: none !important; }` so we also need the `!important` here to be able to override the default hidden behavior on the sphinx rendered scikit-learn.org. See: https://github.com/scikit-learn/scikit-learn/issues/21755 */display: inline-block !important;position: relative;}#sk-container-id-2 div.sk-text-repr-fallback {display: none;}</style><div id=\"sk-container-id-2\" class=\"sk-top-container\"><div class=\"sk-text-repr-fallback\"><pre>DecisionTreeRegressor()</pre><b>In a Jupyter environment, please rerun this cell to show the HTML representation or trust the notebook. <br />On GitHub, the HTML representation is unable to render, please try loading this page with nbviewer.org.</b></div><div class=\"sk-container\" hidden><div class=\"sk-item\"><div class=\"sk-estimator sk-toggleable\"><input class=\"sk-toggleable__control sk-hidden--visually\" id=\"sk-estimator-id-2\" type=\"checkbox\" checked><label for=\"sk-estimator-id-2\" class=\"sk-toggleable__label sk-toggleable__label-arrow\">DecisionTreeRegressor</label><div class=\"sk-toggleable__content\"><pre>DecisionTreeRegressor()</pre></div></div></div></div></div>"
            ]
          },
          "metadata": {},
          "execution_count": 31
        }
      ]
    },
    {
      "cell_type": "code",
      "source": [
        "# Predict\n",
        "y_1 = regr_1.predict(X_test)"
      ],
      "metadata": {
        "id": "5hGCykbWFEWQ"
      },
      "execution_count": null,
      "outputs": []
    },
    {
      "cell_type": "code",
      "source": [
        "print(len(y_1))\n",
        "print(type(y_1))\n",
        "\n",
        "print(len(predictions))\n",
        "print(type(predictions))"
      ],
      "metadata": {
        "colab": {
          "base_uri": "https://localhost:8080/"
        },
        "id": "FX-f_NXzHd0V",
        "outputId": "ed39047f-3ecb-4d0c-8809-7819a6ebd793"
      },
      "execution_count": null,
      "outputs": [
        {
          "output_type": "stream",
          "name": "stdout",
          "text": [
            "40630\n",
            "<class 'numpy.ndarray'>\n",
            "40630\n",
            "<class 'numpy.ndarray'>\n"
          ]
        }
      ]
    },
    {
      "cell_type": "code",
      "source": [
        "calculate_smape(y_test[:-1], y_1[:-1])"
      ],
      "metadata": {
        "colab": {
          "base_uri": "https://localhost:8080/"
        },
        "id": "_ueEIYoMGBlp",
        "outputId": "05b50c54-6840-4862-af05-9d91916d2b39"
      },
      "execution_count": null,
      "outputs": [
        {
          "output_type": "stream",
          "name": "stderr",
          "text": [
            "<ipython-input-28-43fc47401f5a>:11: RuntimeWarning: invalid value encountered in divide\n",
            "  np.abs(predicted - actual) / ((np.abs(predicted) + np.abs(actual))/2) )*100, 2\n"
          ]
        },
        {
          "output_type": "execute_result",
          "data": {
            "text/plain": [
              "nan"
            ]
          },
          "metadata": {},
          "execution_count": 34
        }
      ]
    },
    {
      "cell_type": "code",
      "source": [
        "from sklearn.metrics import mean_squared_error"
      ],
      "metadata": {
        "id": "y1PfmCNbJG8M"
      },
      "execution_count": null,
      "outputs": []
    },
    {
      "cell_type": "code",
      "source": [
        "# MSE = mean_squared_error(y_train, y_1)\n",
        "# RMSE = math.sqrt(MSE)"
      ],
      "metadata": {
        "id": "Bs4y8JLxK6j1"
      },
      "execution_count": null,
      "outputs": []
    },
    {
      "cell_type": "code",
      "source": [
        "# y_test = y_test.to_numpy()\n",
        "\n",
        "print(y_test.shape)\n",
        "print(y_1.shape)\n",
        "\n",
        "len(y_test)"
      ],
      "metadata": {
        "colab": {
          "base_uri": "https://localhost:8080/"
        },
        "id": "SwgSgzrPLZBP",
        "outputId": "22b6449a-2870-43d5-c624-585c7a0bbbb3"
      },
      "execution_count": null,
      "outputs": [
        {
          "output_type": "stream",
          "name": "stdout",
          "text": [
            "(40630,)\n",
            "(40630,)\n"
          ]
        },
        {
          "output_type": "execute_result",
          "data": {
            "text/plain": [
              "40630"
            ]
          },
          "metadata": {},
          "execution_count": 37
        }
      ]
    },
    {
      "cell_type": "code",
      "source": [
        "y_test_copy = y_test[:]\n",
        "y_1_copy = y_1[:]"
      ],
      "metadata": {
        "id": "_vi4yc2GOuvZ"
      },
      "execution_count": null,
      "outputs": []
    },
    {
      "cell_type": "code",
      "source": [
        "y_1"
      ],
      "metadata": {
        "colab": {
          "base_uri": "https://localhost:8080/"
        },
        "id": "JavQybq3nP6D",
        "outputId": "f4797bb3-187f-4bcc-fc5b-8c73845e2978"
      },
      "execution_count": null,
      "outputs": [
        {
          "output_type": "execute_result",
          "data": {
            "text/plain": [
              "array([37., 44., 43., ..., 58., 53., 24.])"
            ]
          },
          "metadata": {},
          "execution_count": 39
        }
      ]
    },
    {
      "cell_type": "code",
      "source": [
        "y_test_copy"
      ],
      "metadata": {
        "colab": {
          "base_uri": "https://localhost:8080/"
        },
        "id": "rxmy6gkMn-E1",
        "outputId": "eef3759d-3ebd-42ad-f301-0d5b213c4a0b"
      },
      "execution_count": null,
      "outputs": [
        {
          "output_type": "execute_result",
          "data": {
            "text/plain": [
              "array([40, 41, 67, ..., 31, 66, 11])"
            ]
          },
          "metadata": {},
          "execution_count": 40
        }
      ]
    },
    {
      "cell_type": "code",
      "source": [
        "for i in range(0, 40630):\n",
        "  if (y_test_copy[i] == 0) and (y_1_copy[i] == 0):\n",
        "    y_test_copy[i] = 1\n",
        "    y_1_copy[i] = 1"
      ],
      "metadata": {
        "id": "QUIIec5bL92C"
      },
      "execution_count": null,
      "outputs": []
    },
    {
      "cell_type": "code",
      "source": [
        "calculate_smape(y_test_copy, y_1_copy)"
      ],
      "metadata": {
        "id": "6WMbRYjyPLwX",
        "outputId": "c75b23c7-be8d-4cd2-8f7c-ee0f3420c1b7",
        "colab": {
          "base_uri": "https://localhost:8080/"
        }
      },
      "execution_count": null,
      "outputs": [
        {
          "output_type": "execute_result",
          "data": {
            "text/plain": [
              "36.2"
            ]
          },
          "metadata": {},
          "execution_count": 42
        }
      ]
    },
    {
      "cell_type": "code",
      "source": [
        "# Fitting Random Forest Regression to the dataset\n",
        "# import the regressor\n",
        "from sklearn.ensemble import RandomForestRegressor\n",
        "\n",
        "# create regressor object\n",
        "regr_2 = RandomForestRegressor(n_estimators=100,\n",
        "\t\t\t\t\t\t\t\trandom_state=0)\n",
        "\n",
        "# fit the regressor with x and y data\n",
        "regr_2.fit(X_train, y_train)\n"
      ],
      "metadata": {
        "colab": {
          "base_uri": "https://localhost:8080/",
          "height": 74
        },
        "id": "xMOS6eDgFYZ4",
        "outputId": "babdde5f-308a-477f-aed0-3eca8ae28b1a"
      },
      "execution_count": null,
      "outputs": [
        {
          "output_type": "execute_result",
          "data": {
            "text/plain": [
              "RandomForestRegressor(random_state=0)"
            ],
            "text/html": [
              "<style>#sk-container-id-3 {color: black;background-color: white;}#sk-container-id-3 pre{padding: 0;}#sk-container-id-3 div.sk-toggleable {background-color: white;}#sk-container-id-3 label.sk-toggleable__label {cursor: pointer;display: block;width: 100%;margin-bottom: 0;padding: 0.3em;box-sizing: border-box;text-align: center;}#sk-container-id-3 label.sk-toggleable__label-arrow:before {content: \"▸\";float: left;margin-right: 0.25em;color: #696969;}#sk-container-id-3 label.sk-toggleable__label-arrow:hover:before {color: black;}#sk-container-id-3 div.sk-estimator:hover label.sk-toggleable__label-arrow:before {color: black;}#sk-container-id-3 div.sk-toggleable__content {max-height: 0;max-width: 0;overflow: hidden;text-align: left;background-color: #f0f8ff;}#sk-container-id-3 div.sk-toggleable__content pre {margin: 0.2em;color: black;border-radius: 0.25em;background-color: #f0f8ff;}#sk-container-id-3 input.sk-toggleable__control:checked~div.sk-toggleable__content {max-height: 200px;max-width: 100%;overflow: auto;}#sk-container-id-3 input.sk-toggleable__control:checked~label.sk-toggleable__label-arrow:before {content: \"▾\";}#sk-container-id-3 div.sk-estimator input.sk-toggleable__control:checked~label.sk-toggleable__label {background-color: #d4ebff;}#sk-container-id-3 div.sk-label input.sk-toggleable__control:checked~label.sk-toggleable__label {background-color: #d4ebff;}#sk-container-id-3 input.sk-hidden--visually {border: 0;clip: rect(1px 1px 1px 1px);clip: rect(1px, 1px, 1px, 1px);height: 1px;margin: -1px;overflow: hidden;padding: 0;position: absolute;width: 1px;}#sk-container-id-3 div.sk-estimator {font-family: monospace;background-color: #f0f8ff;border: 1px dotted black;border-radius: 0.25em;box-sizing: border-box;margin-bottom: 0.5em;}#sk-container-id-3 div.sk-estimator:hover {background-color: #d4ebff;}#sk-container-id-3 div.sk-parallel-item::after {content: \"\";width: 100%;border-bottom: 1px solid gray;flex-grow: 1;}#sk-container-id-3 div.sk-label:hover label.sk-toggleable__label {background-color: #d4ebff;}#sk-container-id-3 div.sk-serial::before {content: \"\";position: absolute;border-left: 1px solid gray;box-sizing: border-box;top: 0;bottom: 0;left: 50%;z-index: 0;}#sk-container-id-3 div.sk-serial {display: flex;flex-direction: column;align-items: center;background-color: white;padding-right: 0.2em;padding-left: 0.2em;position: relative;}#sk-container-id-3 div.sk-item {position: relative;z-index: 1;}#sk-container-id-3 div.sk-parallel {display: flex;align-items: stretch;justify-content: center;background-color: white;position: relative;}#sk-container-id-3 div.sk-item::before, #sk-container-id-3 div.sk-parallel-item::before {content: \"\";position: absolute;border-left: 1px solid gray;box-sizing: border-box;top: 0;bottom: 0;left: 50%;z-index: -1;}#sk-container-id-3 div.sk-parallel-item {display: flex;flex-direction: column;z-index: 1;position: relative;background-color: white;}#sk-container-id-3 div.sk-parallel-item:first-child::after {align-self: flex-end;width: 50%;}#sk-container-id-3 div.sk-parallel-item:last-child::after {align-self: flex-start;width: 50%;}#sk-container-id-3 div.sk-parallel-item:only-child::after {width: 0;}#sk-container-id-3 div.sk-dashed-wrapped {border: 1px dashed gray;margin: 0 0.4em 0.5em 0.4em;box-sizing: border-box;padding-bottom: 0.4em;background-color: white;}#sk-container-id-3 div.sk-label label {font-family: monospace;font-weight: bold;display: inline-block;line-height: 1.2em;}#sk-container-id-3 div.sk-label-container {text-align: center;}#sk-container-id-3 div.sk-container {/* jupyter's `normalize.less` sets `[hidden] { display: none; }` but bootstrap.min.css set `[hidden] { display: none !important; }` so we also need the `!important` here to be able to override the default hidden behavior on the sphinx rendered scikit-learn.org. See: https://github.com/scikit-learn/scikit-learn/issues/21755 */display: inline-block !important;position: relative;}#sk-container-id-3 div.sk-text-repr-fallback {display: none;}</style><div id=\"sk-container-id-3\" class=\"sk-top-container\"><div class=\"sk-text-repr-fallback\"><pre>RandomForestRegressor(random_state=0)</pre><b>In a Jupyter environment, please rerun this cell to show the HTML representation or trust the notebook. <br />On GitHub, the HTML representation is unable to render, please try loading this page with nbviewer.org.</b></div><div class=\"sk-container\" hidden><div class=\"sk-item\"><div class=\"sk-estimator sk-toggleable\"><input class=\"sk-toggleable__control sk-hidden--visually\" id=\"sk-estimator-id-3\" type=\"checkbox\" checked><label for=\"sk-estimator-id-3\" class=\"sk-toggleable__label sk-toggleable__label-arrow\">RandomForestRegressor</label><div class=\"sk-toggleable__content\"><pre>RandomForestRegressor(random_state=0)</pre></div></div></div></div></div>"
            ]
          },
          "metadata": {},
          "execution_count": 43
        }
      ]
    },
    {
      "cell_type": "code",
      "source": [
        "y_2 = regr_2.predict(X_test)\n",
        "y_2_copy = y_2[:]"
      ],
      "metadata": {
        "id": "NTFpcoliG5k-"
      },
      "execution_count": null,
      "outputs": []
    },
    {
      "cell_type": "code",
      "source": [
        "for i in range(0, 40630):\n",
        "  if (y_2_copy[i] == 0):\n",
        "    y_2_copy[i] = 1"
      ],
      "metadata": {
        "id": "NYuG7GmNqxaf"
      },
      "execution_count": null,
      "outputs": []
    },
    {
      "cell_type": "code",
      "source": [
        "calculate_smape(y_test_copy, y_2_copy)"
      ],
      "metadata": {
        "colab": {
          "base_uri": "https://localhost:8080/"
        },
        "id": "FIQFLzGBaDpy",
        "outputId": "b0babe91-06ca-47b9-e4fa-67b149de499a"
      },
      "execution_count": null,
      "outputs": [
        {
          "output_type": "execute_result",
          "data": {
            "text/plain": [
              "35.18"
            ]
          },
          "metadata": {},
          "execution_count": 46
        }
      ]
    },
    {
      "cell_type": "code",
      "source": [
        "#calculate R-squared of regression model\n",
        "r_squared = model.score(X_test, y_1)\n",
        "\n",
        "#view R-squared value\n",
        "print(r_squared)"
      ],
      "metadata": {
        "colab": {
          "base_uri": "https://localhost:8080/"
        },
        "id": "O4zF_B14cpPv",
        "outputId": "d9784513-b097-4e83-f79f-6f542e500ac8"
      },
      "execution_count": null,
      "outputs": [
        {
          "output_type": "stream",
          "name": "stdout",
          "text": [
            "0.6936010785062828\n"
          ]
        }
      ]
    },
    {
      "cell_type": "code",
      "source": [
        "#calculate R-squared of regression model\n",
        "r_squared2 = model.score(X_test, y_2)\n",
        "\n",
        "#view R-squared value\n",
        "print(r_squared2)"
      ],
      "metadata": {
        "colab": {
          "base_uri": "https://localhost:8080/"
        },
        "id": "5rRC4mrcdJQ9",
        "outputId": "53b8fe54-b4e4-4e3d-ecdc-5d0016ffeadd"
      },
      "execution_count": null,
      "outputs": [
        {
          "output_type": "stream",
          "name": "stdout",
          "text": [
            "0.9086291422095528\n"
          ]
        }
      ]
    },
    {
      "cell_type": "code",
      "source": [
        "from sklearn.metrics import r2_score"
      ],
      "metadata": {
        "id": "0lF6vWxedc4J"
      },
      "execution_count": null,
      "outputs": []
    },
    {
      "cell_type": "code",
      "source": [
        "r2_score(y_test, predictions)"
      ],
      "metadata": {
        "colab": {
          "base_uri": "https://localhost:8080/"
        },
        "id": "hNplN2qLdeaS",
        "outputId": "7d6e1cb3-7730-475f-fb21-d169ca7ce07f"
      },
      "execution_count": null,
      "outputs": [
        {
          "output_type": "execute_result",
          "data": {
            "text/plain": [
              "0.7141298358558682"
            ]
          },
          "metadata": {},
          "execution_count": 50
        }
      ]
    },
    {
      "cell_type": "code",
      "source": [
        "r2_score(y_test, y_1)"
      ],
      "metadata": {
        "colab": {
          "base_uri": "https://localhost:8080/"
        },
        "id": "hnc3pm4Vddp_",
        "outputId": "2e9e80ed-fd47-4e2c-8d6d-9b1ebbe6dbd0"
      },
      "execution_count": null,
      "outputs": [
        {
          "output_type": "execute_result",
          "data": {
            "text/plain": [
              "0.5434019392549518"
            ]
          },
          "metadata": {},
          "execution_count": 51
        }
      ]
    },
    {
      "cell_type": "code",
      "source": [
        "r2_score(y_test, y_2)"
      ],
      "metadata": {
        "colab": {
          "base_uri": "https://localhost:8080/"
        },
        "id": "HYoddCwrdyPX",
        "outputId": "8cb9a5cf-4f90-42dd-fcd9-bcf9d8d8e60d"
      },
      "execution_count": null,
      "outputs": [
        {
          "output_type": "execute_result",
          "data": {
            "text/plain": [
              "0.7720922273785038"
            ]
          },
          "metadata": {},
          "execution_count": 52
        }
      ]
    },
    {
      "cell_type": "code",
      "source": [
        "sns.scatterplot(x= y_test, y= y_1)"
      ],
      "metadata": {
        "colab": {
          "base_uri": "https://localhost:8080/",
          "height": 447
        },
        "id": "orkuYAjBT4DY",
        "outputId": "3109a89b-ea36-4d8d-eb54-8d688ce072f8"
      },
      "execution_count": null,
      "outputs": [
        {
          "output_type": "execute_result",
          "data": {
            "text/plain": [
              "<Axes: >"
            ]
          },
          "metadata": {},
          "execution_count": 53
        },
        {
          "output_type": "display_data",
          "data": {
            "text/plain": [
              "<Figure size 640x480 with 1 Axes>"
            ],
            "image/png": "[encoded data removed]"
          },
          "metadata": {}
        }
      ]
    },
    {
      "cell_type": "code",
      "source": [
        "sns.scatterplot(x= y_test, y= y_2)"
      ],
      "metadata": {
        "colab": {
          "base_uri": "https://localhost:8080/",
          "height": 447
        },
        "id": "pWyL3PdeUCo3",
        "outputId": "7c63e6fb-de96-4dcb-b4a8-6cc12482f4d9"
      },
      "execution_count": null,
      "outputs": [
        {
          "output_type": "execute_result",
          "data": {
            "text/plain": [
              "<Axes: >"
            ]
          },
          "metadata": {},
          "execution_count": 54
        },
        {
          "output_type": "display_data",
          "data": {
            "text/plain": [
              "<Figure size 640x480 with 1 Axes>"
            ],
            "image/png": "[encoded data removed]"
          },
          "metadata": {}
        }
      ]
    },
    {
      "cell_type": "code",
      "source": [
        "from sklearn.datasets import make_regression\n",
        "from sklearn.ensemble import RandomForestRegressor\n",
        "from matplotlib import pyplot\n",
        "\n",
        "# get importance\n",
        "importance = regr_2.feature_importances_\n",
        "\n",
        "# summarize feature importance\n",
        "for i,v in enumerate(importance):\n",
        " print('Feature: %0d, Score: %.5f' % (i,v))\n",
        "\n",
        "# plot feature importance\n",
        "pyplot.bar([x for x in range(len(importance))], importance)\n",
        "pyplot.show()\n"
      ],
      "metadata": {
        "colab": {
          "base_uri": "https://localhost:8080/",
          "height": 690
        },
        "id": "PFTVCHveUNgG",
        "outputId": "95134454-cb0d-4eee-8a23-b53a5116723f"
      },
      "execution_count": null,
      "outputs": [
        {
          "output_type": "stream",
          "name": "stdout",
          "text": [
            "Feature: 0, Score: 0.01839\n",
            "Feature: 1, Score: 0.75569\n",
            "Feature: 2, Score: 0.02055\n",
            "Feature: 3, Score: 0.02141\n",
            "Feature: 4, Score: 0.02639\n",
            "Feature: 5, Score: 0.01880\n",
            "Feature: 6, Score: 0.00084\n",
            "Feature: 7, Score: 0.01818\n",
            "Feature: 8, Score: 0.00961\n",
            "Feature: 9, Score: 0.02016\n",
            "Feature: 10, Score: 0.02118\n",
            "Feature: 11, Score: 0.00190\n",
            "Feature: 12, Score: 0.02141\n",
            "Feature: 13, Score: 0.02001\n",
            "Feature: 14, Score: 0.02550\n"
          ]
        },
        {
          "output_type": "display_data",
          "data": {
            "text/plain": [
              "<Figure size 640x480 with 1 Axes>"
            ],
            "image/png": "[encoded data removed]"
          },
          "metadata": {}
        }
      ]
    },
    {
      "cell_type": "code",
      "source": [
        "# feats = {} # a dict to hold feature_name: feature_importance\n",
        "# for feature, importance in zip(data.columns, model.feature_importances_):\n",
        "#     feats[feature] = importance #add the name/value pair\n",
        "\n",
        "# importances = pd.DataFrame.from_dict(feats, orient='index').rename(columns={0: 'Gini-importance'})\n",
        "# importances.sort_values(by='Gini-importance').plot(kind='bar', rot=45)\n",
        "X_train"
      ],
      "metadata": {
        "id": "dmHWAXeSkQDe",
        "outputId": "ff484a85-4db7-485d-a899-1acddf162e76",
        "colab": {
          "base_uri": "https://localhost:8080/",
          "height": 443
        }
      },
      "execution_count": null,
      "outputs": [
        {
          "output_type": "execute_result",
          "data": {
            "text/plain": [
              "        valence  year  acousticness  danceability  duration_ms  energy  \\\n",
              "152741   0.7470  2005        0.2950         0.570       188267   0.806   \n",
              "164213   0.6890  1988        0.0194         0.620       299000   0.681   \n",
              "102499   0.6860  1989        0.9750         0.419       111600   0.154   \n",
              "146313   0.5460  1973        0.5950         0.558       180453   0.530   \n",
              "23075    0.0349  1941        0.0623         0.234        56332   0.997   \n",
              "...         ...   ...           ...           ...          ...     ...   \n",
              "77849    0.8350  1947        0.9950         0.483       201840   0.053   \n",
              "45605    0.7150  1962        0.4760         0.576       133467   0.328   \n",
              "111854   0.1430  1955        0.7660         0.262       215627   0.181   \n",
              "69954    0.7430  1994        0.1060         0.759       369120   0.951   \n",
              "63809    0.2540  1963        0.8390         0.406       132333   0.267   \n",
              "\n",
              "        explicit  instrumentalness  key  liveness  loudness  mode  \\\n",
              "152741         0          0.000221   11     0.112    -9.849     1   \n",
              "164213         0          0.313000   10     0.304   -12.577     0   \n",
              "102499         0          0.851000    7     0.163   -18.150     1   \n",
              "146313         0          0.000061    2     0.110    -9.550     1   \n",
              "23075          0          0.611000   11     0.166    -4.262     1   \n",
              "...          ...               ...  ...       ...       ...   ...   \n",
              "77849          0          0.943000    9     0.102   -29.684     0   \n",
              "45605          0          0.000000    8     0.079   -10.269     0   \n",
              "111854         0          0.757000    0     0.102   -12.014     0   \n",
              "69954          0          0.000010    5     0.954    -4.659     0   \n",
              "63809          0          0.000169    1     0.159   -11.176     1   \n",
              "\n",
              "        speechiness    tempo  artists_names  \n",
              "152741       0.0536  128.873           4169  \n",
              "164213       0.0326  104.208           2572  \n",
              "102499       0.0515   76.549          16627  \n",
              "146313       0.0399  128.750           5902  \n",
              "23075        0.4480  101.133           8995  \n",
              "...             ...      ...            ...  \n",
              "77849        0.0425  101.911          15677  \n",
              "45605        0.0359  136.699           5307  \n",
              "111854       0.0333  127.844           4020  \n",
              "69954        0.0811  110.881           8349  \n",
              "63809        0.0270   94.015          12865  \n",
              "\n",
              "[94803 rows x 15 columns]"
            ],
            "text/html": [
              "\n",
              "  <div id=\"df-3b0c31e6-f6be-44bd-803e-82c880ab8dfe\" class=\"colab-df-container\">\n",
              "    <div>\n",
              "<style scoped>\n",
              "    .dataframe tbody tr th:only-of-type {\n",
              "        vertical-align: middle;\n",
              "    }\n",
              "\n",
              "    .dataframe tbody tr th {\n",
              "        vertical-align: top;\n",
              "    }\n",
              "\n",
              "    .dataframe thead th {\n",
              "        text-align: right;\n",
              "    }\n",
              "</style>\n",
              "<table border=\"1\" class=\"dataframe\">\n",
              "  <thead>\n",
              "    <tr style=\"text-align: right;\">\n",
              "      <th></th>\n",
              "      <th>valence</th>\n",
              "      <th>year</th>\n",
              "      <th>acousticness</th>\n",
              "      <th>danceability</th>\n",
              "      <th>duration_ms</th>\n",
              "      <th>energy</th>\n",
              "      <th>explicit</th>\n",
              "      <th>instrumentalness</th>\n",
              "      <th>key</th>\n",
              "      <th>liveness</th>\n",
              "      <th>loudness</th>\n",
              "      <th>mode</th>\n",
              "      <th>speechiness</th>\n",
              "      <th>tempo</th>\n",
              "      <th>artists_names</th>\n",
              "    </tr>\n",
              "  </thead>\n",
              "  <tbody>\n",
              "    <tr>\n",
              "      <th>152741</th>\n",
              "      <td>0.7470</td>\n",
              "      <td>2005</td>\n",
              "      <td>0.2950</td>\n",
              "      <td>0.570</td>\n",
              "      <td>188267</td>\n",
              "      <td>0.806</td>\n",
              "      <td>0</td>\n",
              "      <td>0.000221</td>\n",
              "      <td>11</td>\n",
              "      <td>0.112</td>\n",
              "      <td>-9.849</td>\n",
              "      <td>1</td>\n",
              "      <td>0.0536</td>\n",
              "      <td>128.873</td>\n",
              "      <td>4169</td>\n",
              "    </tr>\n",
              "    <tr>\n",
              "      <th>164213</th>\n",
              "      <td>0.6890</td>\n",
              "      <td>1988</td>\n",
              "      <td>0.0194</td>\n",
              "      <td>0.620</td>\n",
              "      <td>299000</td>\n",
              "      <td>0.681</td>\n",
              "      <td>0</td>\n",
              "      <td>0.313000</td>\n",
              "      <td>10</td>\n",
              "      <td>0.304</td>\n",
              "      <td>-12.577</td>\n",
              "      <td>0</td>\n",
              "      <td>0.0326</td>\n",
              "      <td>104.208</td>\n",
              "      <td>2572</td>\n",
              "    </tr>\n",
              "    <tr>\n",
              "      <th>102499</th>\n",
              "      <td>0.6860</td>\n",
              "      <td>1989</td>\n",
              "      <td>0.9750</td>\n",
              "      <td>0.419</td>\n",
              "      <td>111600</td>\n",
              "      <td>0.154</td>\n",
              "      <td>0</td>\n",
              "      <td>0.851000</td>\n",
              "      <td>7</td>\n",
              "      <td>0.163</td>\n",
              "      <td>-18.150</td>\n",
              "      <td>1</td>\n",
              "      <td>0.0515</td>\n",
              "      <td>76.549</td>\n",
              "      <td>16627</td>\n",
              "    </tr>\n",
              "    <tr>\n",
              "      <th>146313</th>\n",
              "      <td>0.5460</td>\n",
              "      <td>1973</td>\n",
              "      <td>0.5950</td>\n",
              "      <td>0.558</td>\n",
              "      <td>180453</td>\n",
              "      <td>0.530</td>\n",
              "      <td>0</td>\n",
              "      <td>0.000061</td>\n",
              "      <td>2</td>\n",
              "      <td>0.110</td>\n",
              "      <td>-9.550</td>\n",
              "      <td>1</td>\n",
              "      <td>0.0399</td>\n",
              "      <td>128.750</td>\n",
              "      <td>5902</td>\n",
              "    </tr>\n",
              "    <tr>\n",
              "      <th>23075</th>\n",
              "      <td>0.0349</td>\n",
              "      <td>1941</td>\n",
              "      <td>0.0623</td>\n",
              "      <td>0.234</td>\n",
              "      <td>56332</td>\n",
              "      <td>0.997</td>\n",
              "      <td>0</td>\n",
              "      <td>0.611000</td>\n",
              "      <td>11</td>\n",
              "      <td>0.166</td>\n",
              "      <td>-4.262</td>\n",
              "      <td>1</td>\n",
              "      <td>0.4480</td>\n",
              "      <td>101.133</td>\n",
              "      <td>8995</td>\n",
              "    </tr>\n",
              "    <tr>\n",
              "      <th>...</th>\n",
              "      <td>...</td>\n",
              "      <td>...</td>\n",
              "      <td>...</td>\n",
              "      <td>...</td>\n",
              "      <td>...</td>\n",
              "      <td>...</td>\n",
              "      <td>...</td>\n",
              "      <td>...</td>\n",
              "      <td>...</td>\n",
              "      <td>...</td>\n",
              "      <td>...</td>\n",
              "      <td>...</td>\n",
              "      <td>...</td>\n",
              "      <td>...</td>\n",
              "      <td>...</td>\n",
              "    </tr>\n",
              "    <tr>\n",
              "      <th>77849</th>\n",
              "      <td>0.8350</td>\n",
              "      <td>1947</td>\n",
              "      <td>0.9950</td>\n",
              "      <td>0.483</td>\n",
              "      <td>201840</td>\n",
              "      <td>0.053</td>\n",
              "      <td>0</td>\n",
              "      <td>0.943000</td>\n",
              "      <td>9</td>\n",
              "      <td>0.102</td>\n",
              "      <td>-29.684</td>\n",
              "      <td>0</td>\n",
              "      <td>0.0425</td>\n",
              "      <td>101.911</td>\n",
              "      <td>15677</td>\n",
              "    </tr>\n",
              "    <tr>\n",
              "      <th>45605</th>\n",
              "      <td>0.7150</td>\n",
              "      <td>1962</td>\n",
              "      <td>0.4760</td>\n",
              "      <td>0.576</td>\n",
              "      <td>133467</td>\n",
              "      <td>0.328</td>\n",
              "      <td>0</td>\n",
              "      <td>0.000000</td>\n",
              "      <td>8</td>\n",
              "      <td>0.079</td>\n",
              "      <td>-10.269</td>\n",
              "      <td>0</td>\n",
              "      <td>0.0359</td>\n",
              "      <td>136.699</td>\n",
              "      <td>5307</td>\n",
              "    </tr>\n",
              "    <tr>\n",
              "      <th>111854</th>\n",
              "      <td>0.1430</td>\n",
              "      <td>1955</td>\n",
              "      <td>0.7660</td>\n",
              "      <td>0.262</td>\n",
              "      <td>215627</td>\n",
              "      <td>0.181</td>\n",
              "      <td>0</td>\n",
              "      <td>0.757000</td>\n",
              "      <td>0</td>\n",
              "      <td>0.102</td>\n",
              "      <td>-12.014</td>\n",
              "      <td>0</td>\n",
              "      <td>0.0333</td>\n",
              "      <td>127.844</td>\n",
              "      <td>4020</td>\n",
              "    </tr>\n",
              "    <tr>\n",
              "      <th>69954</th>\n",
              "      <td>0.7430</td>\n",
              "      <td>1994</td>\n",
              "      <td>0.1060</td>\n",
              "      <td>0.759</td>\n",
              "      <td>369120</td>\n",
              "      <td>0.951</td>\n",
              "      <td>0</td>\n",
              "      <td>0.000010</td>\n",
              "      <td>5</td>\n",
              "      <td>0.954</td>\n",
              "      <td>-4.659</td>\n",
              "      <td>0</td>\n",
              "      <td>0.0811</td>\n",
              "      <td>110.881</td>\n",
              "      <td>8349</td>\n",
              "    </tr>\n",
              "    <tr>\n",
              "      <th>63809</th>\n",
              "      <td>0.2540</td>\n",
              "      <td>1963</td>\n",
              "      <td>0.8390</td>\n",
              "      <td>0.406</td>\n",
              "      <td>132333</td>\n",
              "      <td>0.267</td>\n",
              "      <td>0</td>\n",
              "      <td>0.000169</td>\n",
              "      <td>1</td>\n",
              "      <td>0.159</td>\n",
              "      <td>-11.176</td>\n",
              "      <td>1</td>\n",
              "      <td>0.0270</td>\n",
              "      <td>94.015</td>\n",
              "      <td>12865</td>\n",
              "    </tr>\n",
              "  </tbody>\n",
              "</table>\n",
              "<p>94803 rows × 15 columns</p>\n",
              "</div>\n",
              "    <div class=\"colab-df-buttons\">\n",
              "\n",
              "  <div class=\"colab-df-container\">\n",
              "    <button class=\"colab-df-convert\" onclick=\"convertToInteractive('df-3b0c31e6-f6be-44bd-803e-82c880ab8dfe')\"\n",
              "            title=\"Convert this dataframe to an interactive table.\"\n",
              "            style=\"display:none;\">\n",
              "\n",
              "  <svg xmlns=\"http://www.w3.org/2000/svg\" height=\"24px\" viewBox=\"0 -960 960 960\">\n",
              "    <path d=\"M120-120v-720h720v720H120Zm60-500h600v-160H180v160Zm220 220h160v-160H400v160Zm0 220h160v-160H400v160ZM180-400h160v-160H180v160Zm440 0h160v-160H620v160ZM180-180h160v-160H180v160Zm440 0h160v-160H620v160Z\"/>\n",
              "  </svg>\n",
              "    </button>\n",
              "\n",
              "  <style>\n",
              "    .colab-df-container {\n",
              "      display:flex;\n",
              "      gap: 12px;\n",
              "    }\n",
              "\n",
              "    .colab-df-convert {\n",
              "      background-color: #E8F0FE;\n",
              "      border: none;\n",
              "      border-radius: 50%;\n",
              "      cursor: pointer;\n",
              "      display: none;\n",
              "      fill: #1967D2;\n",
              "      height: 32px;\n",
              "      padding: 0 0 0 0;\n",
              "      width: 32px;\n",
              "    }\n",
              "\n",
              "    .colab-df-convert:hover {\n",
              "      background-color: #E2EBFA;\n",
              "      box-shadow: 0px 1px 2px rgba(60, 64, 67, 0.3), 0px 1px 3px 1px rgba(60, 64, 67, 0.15);\n",
              "      fill: #174EA6;\n",
              "    }\n",
              "\n",
              "    .colab-df-buttons div {\n",
              "      margin-bottom: 4px;\n",
              "    }\n",
              "\n",
              "    [theme=dark] .colab-df-convert {\n",
              "      background-color: #3B4455;\n",
              "      fill: #D2E3FC;\n",
              "    }\n",
              "\n",
              "    [theme=dark] .colab-df-convert:hover {\n",
              "      background-color: #434B5C;\n",
              "      box-shadow: 0px 1px 3px 1px rgba(0, 0, 0, 0.15);\n",
              "      filter: drop-shadow(0px 1px 2px rgba(0, 0, 0, 0.3));\n",
              "      fill: #FFFFFF;\n",
              "    }\n",
              "  </style>\n",
              "\n",
              "    <script>\n",
              "      const buttonEl =\n",
              "        document.querySelector('#df-3b0c31e6-f6be-44bd-803e-82c880ab8dfe button.colab-df-convert');\n",
              "      buttonEl.style.display =\n",
              "        google.colab.kernel.accessAllowed ? 'block' : 'none';\n",
              "\n",
              "      async function convertToInteractive(key) {\n",
              "        const element = document.querySelector('#df-3b0c31e6-f6be-44bd-803e-82c880ab8dfe');\n",
              "        const dataTable =\n",
              "          await google.colab.kernel.invokeFunction('convertToInteractive',\n",
              "                                                    [key], {});\n",
              "        if (!dataTable) return;\n",
              "\n",
              "        const docLinkHtml = 'Like what you see? Visit the ' +\n",
              "          '<a target=\"_blank\" href=https://colab.research.google.com/notebooks/data_table.ipynb>data table notebook</a>'\n",
              "          + ' to learn more about interactive tables.';\n",
              "        element.innerHTML = '';\n",
              "        dataTable['output_type'] = 'display_data';\n",
              "        await google.colab.output.renderOutput(dataTable, element);\n",
              "        const docLink = document.createElement('div');\n",
              "        docLink.innerHTML = docLinkHtml;\n",
              "        element.appendChild(docLink);\n",
              "      }\n",
              "    </script>\n",
              "  </div>\n",
              "\n",
              "\n",
              "<div id=\"df-b83726c3-9ea4-4c4b-8780-971842286ca2\">\n",
              "  <button class=\"colab-df-quickchart\" onclick=\"quickchart('df-b83726c3-9ea4-4c4b-8780-971842286ca2')\"\n",
              "            title=\"Suggest charts.\"\n",
              "            style=\"display:none;\">\n",
              "\n",
              "<svg xmlns=\"http://www.w3.org/2000/svg\" height=\"24px\"viewBox=\"0 0 24 24\"\n",
              "     width=\"24px\">\n",
              "    <g>\n",
              "        <path d=\"M19 3H5c-1.1 0-2 .9-2 2v14c0 1.1.9 2 2 2h14c1.1 0 2-.9 2-2V5c0-1.1-.9-2-2-2zM9 17H7v-7h2v7zm4 0h-2V7h2v10zm4 0h-2v-4h2v4z\"/>\n",
              "    </g>\n",
              "</svg>\n",
              "  </button>\n",
              "\n",
              "<style>\n",
              "  .colab-df-quickchart {\n",
              "      --bg-color: #E8F0FE;\n",
              "      --fill-color: #1967D2;\n",
              "      --hover-bg-color: #E2EBFA;\n",
              "      --hover-fill-color: #174EA6;\n",
              "      --disabled-fill-color: #AAA;\n",
              "      --disabled-bg-color: #DDD;\n",
              "  }\n",
              "\n",
              "  [theme=dark] .colab-df-quickchart {\n",
              "      --bg-color: #3B4455;\n",
              "      --fill-color: #D2E3FC;\n",
              "      --hover-bg-color: #434B5C;\n",
              "      --hover-fill-color: #FFFFFF;\n",
              "      --disabled-bg-color: #3B4455;\n",
              "      --disabled-fill-color: #666;\n",
              "  }\n",
              "\n",
              "  .colab-df-quickchart {\n",
              "    background-color: var(--bg-color);\n",
              "    border: none;\n",
              "    border-radius: 50%;\n",
              "    cursor: pointer;\n",
              "    display: none;\n",
              "    fill: var(--fill-color);\n",
              "    height: 32px;\n",
              "    padding: 0;\n",
              "    width: 32px;\n",
              "  }\n",
              "\n",
              "  .colab-df-quickchart:hover {\n",
              "    background-color: var(--hover-bg-color);\n",
              "    box-shadow: 0 1px 2px rgba(60, 64, 67, 0.3), 0 1px 3px 1px rgba(60, 64, 67, 0.15);\n",
              "    fill: var(--button-hover-fill-color);\n",
              "  }\n",
              "\n",
              "  .colab-df-quickchart-complete:disabled,\n",
              "  .colab-df-quickchart-complete:disabled:hover {\n",
              "    background-color: var(--disabled-bg-color);\n",
              "    fill: var(--disabled-fill-color);\n",
              "    box-shadow: none;\n",
              "  }\n",
              "\n",
              "  .colab-df-spinner {\n",
              "    border: 2px solid var(--fill-color);\n",
              "    border-color: transparent;\n",
              "    border-bottom-color: var(--fill-color);\n",
              "    animation:\n",
              "      spin 1s steps(1) infinite;\n",
              "  }\n",
              "\n",
              "  @keyframes spin {\n",
              "    0% {\n",
              "      border-color: transparent;\n",
              "      border-bottom-color: var(--fill-color);\n",
              "      border-left-color: var(--fill-color);\n",
              "    }\n",
              "    20% {\n",
              "      border-color: transparent;\n",
              "      border-left-color: var(--fill-color);\n",
              "      border-top-color: var(--fill-color);\n",
              "    }\n",
              "    30% {\n",
              "      border-color: transparent;\n",
              "      border-left-color: var(--fill-color);\n",
              "      border-top-color: var(--fill-color);\n",
              "      border-right-color: var(--fill-color);\n",
              "    }\n",
              "    40% {\n",
              "      border-color: transparent;\n",
              "      border-right-color: var(--fill-color);\n",
              "      border-top-color: var(--fill-color);\n",
              "    }\n",
              "    60% {\n",
              "      border-color: transparent;\n",
              "      border-right-color: var(--fill-color);\n",
              "    }\n",
              "    80% {\n",
              "      border-color: transparent;\n",
              "      border-right-color: var(--fill-color);\n",
              "      border-bottom-color: var(--fill-color);\n",
              "    }\n",
              "    90% {\n",
              "      border-color: transparent;\n",
              "      border-bottom-color: var(--fill-color);\n",
              "    }\n",
              "  }\n",
              "</style>\n",
              "\n",
              "  <script>\n",
              "    async function quickchart(key) {\n",
              "      const quickchartButtonEl =\n",
              "        document.querySelector('#' + key + ' button');\n",
              "      quickchartButtonEl.disabled = true;  // To prevent multiple clicks.\n",
              "      quickchartButtonEl.classList.add('colab-df-spinner');\n",
              "      try {\n",
              "        const charts = await google.colab.kernel.invokeFunction(\n",
              "            'suggestCharts', [key], {});\n",
              "      } catch (error) {\n",
              "        console.error('Error during call to suggestCharts:', error);\n",
              "      }\n",
              "      quickchartButtonEl.classList.remove('colab-df-spinner');\n",
              "      quickchartButtonEl.classList.add('colab-df-quickchart-complete');\n",
              "    }\n",
              "    (() => {\n",
              "      let quickchartButtonEl =\n",
              "        document.querySelector('#df-b83726c3-9ea4-4c4b-8780-971842286ca2 button');\n",
              "      quickchartButtonEl.style.display =\n",
              "        google.colab.kernel.accessAllowed ? 'block' : 'none';\n",
              "    })();\n",
              "  </script>\n",
              "</div>\n",
              "    </div>\n",
              "  </div>\n"
            ]
          },
          "metadata": {},
          "execution_count": 79
        }
      ]
    },
    {
      "cell_type": "code",
      "source": [
        "pip install mrmr_selection\n"
      ],
      "metadata": {
        "colab": {
          "base_uri": "https://localhost:8080/"
        },
        "id": "PD0IlqPvpA4a",
        "outputId": "82a83ff3-7c64-414b-90b8-713c6f2fd3fe"
      },
      "execution_count": null,
      "outputs": [
        {
          "output_type": "stream",
          "name": "stdout",
          "text": [
            "Collecting mrmr_selection\n",
            "  Downloading mrmr_selection-0.2.8-py3-none-any.whl (15 kB)\n",
            "Collecting category-encoders (from mrmr_selection)\n",
            "  Downloading category_encoders-2.6.2-py2.py3-none-any.whl (81 kB)\n",
            "\u001b[2K     \u001b[90m━━━━━━━━━━━━━━━━━━━━━━━━━━━━━━━━━━━━━━━━\u001b[0m \u001b[32m81.8/81.8 kB\u001b[0m \u001b[31m2.8 MB/s\u001b[0m eta \u001b[36m0:00:00\u001b[0m\n",
            "\u001b[?25hRequirement already satisfied: jinja2 in /usr/local/lib/python3.10/dist-packages (from mrmr_selection) (3.1.2)\n",
            "Requirement already satisfied: tqdm in /usr/local/lib/python3.10/dist-packages (from mrmr_selection) (4.66.1)\n",
            "Requirement already satisfied: joblib in /usr/local/lib/python3.10/dist-packages (from mrmr_selection) (1.3.2)\n",
            "Requirement already satisfied: pandas>=1.0.3 in /usr/local/lib/python3.10/dist-packages (from mrmr_selection) (1.5.3)\n",
            "Requirement already satisfied: numpy>=1.18.1 in /usr/local/lib/python3.10/dist-packages (from mrmr_selection) (1.23.5)\n",
            "Requirement already satisfied: scikit-learn in /usr/local/lib/python3.10/dist-packages (from mrmr_selection) (1.2.2)\n",
            "Requirement already satisfied: scipy in /usr/local/lib/python3.10/dist-packages (from mrmr_selection) (1.11.2)\n",
            "Requirement already satisfied: polars>=0.12.5 in /usr/local/lib/python3.10/dist-packages (from mrmr_selection) (0.17.3)\n",
            "Requirement already satisfied: python-dateutil>=2.8.1 in /usr/local/lib/python3.10/dist-packages (from pandas>=1.0.3->mrmr_selection) (2.8.2)\n",
            "Requirement already satisfied: pytz>=2020.1 in /usr/local/lib/python3.10/dist-packages (from pandas>=1.0.3->mrmr_selection) (2023.3.post1)\n",
            "Requirement already satisfied: typing_extensions>=4.0.1 in /usr/local/lib/python3.10/dist-packages (from polars>=0.12.5->mrmr_selection) (4.5.0)\n",
            "Requirement already satisfied: statsmodels>=0.9.0 in /usr/local/lib/python3.10/dist-packages (from category-encoders->mrmr_selection) (0.14.0)\n",
            "Requirement already satisfied: patsy>=0.5.1 in /usr/local/lib/python3.10/dist-packages (from category-encoders->mrmr_selection) (0.5.3)\n",
            "Requirement already satisfied: threadpoolctl>=2.0.0 in /usr/local/lib/python3.10/dist-packages (from scikit-learn->mrmr_selection) (3.2.0)\n",
            "Requirement already satisfied: MarkupSafe>=2.0 in /usr/local/lib/python3.10/dist-packages (from jinja2->mrmr_selection) (2.1.3)\n",
            "Requirement already satisfied: six in /usr/local/lib/python3.10/dist-packages (from patsy>=0.5.1->category-encoders->mrmr_selection) (1.16.0)\n",
            "Requirement already satisfied: packaging>=21.3 in /usr/local/lib/python3.10/dist-packages (from statsmodels>=0.9.0->category-encoders->mrmr_selection) (23.1)\n",
            "Installing collected packages: category-encoders, mrmr_selection\n",
            "Successfully installed category-encoders-2.6.2 mrmr_selection-0.2.8\n"
          ]
        }
      ]
    },
    {
      "cell_type": "code",
      "source": [
        "import mrmr"
      ],
      "metadata": {
        "id": "uwmiJGNrpEwi"
      },
      "execution_count": null,
      "outputs": []
    },
    {
      "cell_type": "code",
      "source": [
        "# select top 10 features using mRMR\n",
        "from mrmr import mrmr_classif\n",
        "selected_features = mrmr_classif(X=X_train, y=y_train, K=10)"
      ],
      "metadata": {
        "colab": {
          "base_uri": "https://localhost:8080/"
        },
        "id": "cGlGr-J9pU25",
        "outputId": "7a011200-bc59-427c-9b88-867b03cfeee5"
      },
      "execution_count": null,
      "outputs": [
        {
          "output_type": "stream",
          "name": "stderr",
          "text": [
            "100%|██████████| 10/10 [00:01<00:00,  5.68it/s]\n"
          ]
        }
      ]
    },
    {
      "cell_type": "code",
      "source": [
        "print(selected_features)"
      ],
      "metadata": {
        "colab": {
          "base_uri": "https://localhost:8080/"
        },
        "id": "zdASX_71py0x",
        "outputId": "851308e4-33b4-44cd-e508-bebedf3736ac"
      },
      "execution_count": null,
      "outputs": [
        {
          "output_type": "stream",
          "name": "stdout",
          "text": [
            "['year', 'speechiness', 'acousticness', 'energy', 'loudness', 'instrumentalness', 'explicit', 'duration_ms', 'artists_names', 'danceability']\n"
          ]
        }
      ]
    },
    {
      "cell_type": "code",
      "source": [
        "type(selected_features)"
      ],
      "metadata": {
        "colab": {
          "base_uri": "https://localhost:8080/"
        },
        "id": "Cg41T0Ytrtet",
        "outputId": "646ac386-47fa-45c1-9e94-9df2255e03e5"
      },
      "execution_count": null,
      "outputs": [
        {
          "output_type": "execute_result",
          "data": {
            "text/plain": [
              "list"
            ]
          },
          "metadata": {},
          "execution_count": 61
        }
      ]
    },
    {
      "cell_type": "code",
      "source": [
        "x_train_subset = X_train[selected_features]\n",
        "x_test_subset = X_test[selected_features]"
      ],
      "metadata": {
        "id": "P0NZj7djr-eO"
      },
      "execution_count": null,
      "outputs": []
    },
    {
      "cell_type": "code",
      "source": [
        "# create regressor object\n",
        "regr_3 = RandomForestRegressor(n_estimators=100,\n",
        "\t\t\t\t\t\t\t\trandom_state=0)\n",
        "\n",
        "# fit the regressor with x and y data\n",
        "regr_3.fit(x_train_subset.values, y_train.values)\n"
      ],
      "metadata": {
        "colab": {
          "base_uri": "https://localhost:8080/",
          "height": 74
        },
        "id": "Ldg7fnIzqEKf",
        "outputId": "8d9c36f4-00b8-473a-dee5-087e82a71c63"
      },
      "execution_count": null,
      "outputs": [
        {
          "output_type": "execute_result",
          "data": {
            "text/plain": [
              "RandomForestRegressor(random_state=0)"
            ],
            "text/html": [
              "<style>#sk-container-id-4 {color: black;background-color: white;}#sk-container-id-4 pre{padding: 0;}#sk-container-id-4 div.sk-toggleable {background-color: white;}#sk-container-id-4 label.sk-toggleable__label {cursor: pointer;display: block;width: 100%;margin-bottom: 0;padding: 0.3em;box-sizing: border-box;text-align: center;}#sk-container-id-4 label.sk-toggleable__label-arrow:before {content: \"▸\";float: left;margin-right: 0.25em;color: #696969;}#sk-container-id-4 label.sk-toggleable__label-arrow:hover:before {color: black;}#sk-container-id-4 div.sk-estimator:hover label.sk-toggleable__label-arrow:before {color: black;}#sk-container-id-4 div.sk-toggleable__content {max-height: 0;max-width: 0;overflow: hidden;text-align: left;background-color: #f0f8ff;}#sk-container-id-4 div.sk-toggleable__content pre {margin: 0.2em;color: black;border-radius: 0.25em;background-color: #f0f8ff;}#sk-container-id-4 input.sk-toggleable__control:checked~div.sk-toggleable__content {max-height: 200px;max-width: 100%;overflow: auto;}#sk-container-id-4 input.sk-toggleable__control:checked~label.sk-toggleable__label-arrow:before {content: \"▾\";}#sk-container-id-4 div.sk-estimator input.sk-toggleable__control:checked~label.sk-toggleable__label {background-color: #d4ebff;}#sk-container-id-4 div.sk-label input.sk-toggleable__control:checked~label.sk-toggleable__label {background-color: #d4ebff;}#sk-container-id-4 input.sk-hidden--visually {border: 0;clip: rect(1px 1px 1px 1px);clip: rect(1px, 1px, 1px, 1px);height: 1px;margin: -1px;overflow: hidden;padding: 0;position: absolute;width: 1px;}#sk-container-id-4 div.sk-estimator {font-family: monospace;background-color: #f0f8ff;border: 1px dotted black;border-radius: 0.25em;box-sizing: border-box;margin-bottom: 0.5em;}#sk-container-id-4 div.sk-estimator:hover {background-color: #d4ebff;}#sk-container-id-4 div.sk-parallel-item::after {content: \"\";width: 100%;border-bottom: 1px solid gray;flex-grow: 1;}#sk-container-id-4 div.sk-label:hover label.sk-toggleable__label {background-color: #d4ebff;}#sk-container-id-4 div.sk-serial::before {content: \"\";position: absolute;border-left: 1px solid gray;box-sizing: border-box;top: 0;bottom: 0;left: 50%;z-index: 0;}#sk-container-id-4 div.sk-serial {display: flex;flex-direction: column;align-items: center;background-color: white;padding-right: 0.2em;padding-left: 0.2em;position: relative;}#sk-container-id-4 div.sk-item {position: relative;z-index: 1;}#sk-container-id-4 div.sk-parallel {display: flex;align-items: stretch;justify-content: center;background-color: white;position: relative;}#sk-container-id-4 div.sk-item::before, #sk-container-id-4 div.sk-parallel-item::before {content: \"\";position: absolute;border-left: 1px solid gray;box-sizing: border-box;top: 0;bottom: 0;left: 50%;z-index: -1;}#sk-container-id-4 div.sk-parallel-item {display: flex;flex-direction: column;z-index: 1;position: relative;background-color: white;}#sk-container-id-4 div.sk-parallel-item:first-child::after {align-self: flex-end;width: 50%;}#sk-container-id-4 div.sk-parallel-item:last-child::after {align-self: flex-start;width: 50%;}#sk-container-id-4 div.sk-parallel-item:only-child::after {width: 0;}#sk-container-id-4 div.sk-dashed-wrapped {border: 1px dashed gray;margin: 0 0.4em 0.5em 0.4em;box-sizing: border-box;padding-bottom: 0.4em;background-color: white;}#sk-container-id-4 div.sk-label label {font-family: monospace;font-weight: bold;display: inline-block;line-height: 1.2em;}#sk-container-id-4 div.sk-label-container {text-align: center;}#sk-container-id-4 div.sk-container {/* jupyter's `normalize.less` sets `[hidden] { display: none; }` but bootstrap.min.css set `[hidden] { display: none !important; }` so we also need the `!important` here to be able to override the default hidden behavior on the sphinx rendered scikit-learn.org. See: https://github.com/scikit-learn/scikit-learn/issues/21755 */display: inline-block !important;position: relative;}#sk-container-id-4 div.sk-text-repr-fallback {display: none;}</style><div id=\"sk-container-id-4\" class=\"sk-top-container\"><div class=\"sk-text-repr-fallback\"><pre>RandomForestRegressor(random_state=0)</pre><b>In a Jupyter environment, please rerun this cell to show the HTML representation or trust the notebook. <br />On GitHub, the HTML representation is unable to render, please try loading this page with nbviewer.org.</b></div><div class=\"sk-container\" hidden><div class=\"sk-item\"><div class=\"sk-estimator sk-toggleable\"><input class=\"sk-toggleable__control sk-hidden--visually\" id=\"sk-estimator-id-4\" type=\"checkbox\" checked><label for=\"sk-estimator-id-4\" class=\"sk-toggleable__label sk-toggleable__label-arrow\">RandomForestRegressor</label><div class=\"sk-toggleable__content\"><pre>RandomForestRegressor(random_state=0)</pre></div></div></div></div></div>"
            ]
          },
          "metadata": {},
          "execution_count": 63
        }
      ]
    },
    {
      "cell_type": "code",
      "source": [
        "y_3 = regr_3.predict(x_test_subset.values)"
      ],
      "metadata": {
        "id": "Vir0m13PtBzM"
      },
      "execution_count": null,
      "outputs": []
    },
    {
      "cell_type": "code",
      "source": [
        "y_3_copy = y_3[:]\n",
        "\n",
        "for i in range(0, 40630):\n",
        "  if (y_3_copy[i] == 0):\n",
        "    y_3_copy[i] = 1"
      ],
      "metadata": {
        "id": "51ze-LRp6w7v"
      },
      "execution_count": null,
      "outputs": []
    },
    {
      "cell_type": "code",
      "source": [
        "calculate_smape(y_test, y_3_copy)"
      ],
      "metadata": {
        "colab": {
          "base_uri": "https://localhost:8080/"
        },
        "id": "2vyFhqqvso_m",
        "outputId": "3fde5603-bc80-4d20-e4bd-6b63074599f9"
      },
      "execution_count": null,
      "outputs": [
        {
          "output_type": "execute_result",
          "data": {
            "text/plain": [
              "34.66"
            ]
          },
          "metadata": {},
          "execution_count": 66
        }
      ]
    },
    {
      "cell_type": "code",
      "source": [
        "r_squared3 = regr_3.score(x_test_subset, y_3)"
      ],
      "metadata": {
        "id": "txJ3bCytsxss"
      },
      "execution_count": null,
      "outputs": []
    },
    {
      "cell_type": "code",
      "source": [
        "r2_score(y_test_copy, y_3_copy)"
      ],
      "metadata": {
        "colab": {
          "base_uri": "https://localhost:8080/"
        },
        "id": "_ay3IDno5tbl",
        "outputId": "de413633-e739-42eb-eec4-9154fdb7513d"
      },
      "execution_count": null,
      "outputs": [
        {
          "output_type": "execute_result",
          "data": {
            "text/plain": [
              "0.7738175069308695"
            ]
          },
          "metadata": {},
          "execution_count": 75
        }
      ]
    },
    {
      "cell_type": "code",
      "source": [
        "r_squared3"
      ],
      "metadata": {
        "colab": {
          "base_uri": "https://localhost:8080/"
        },
        "id": "P6ut0pf_nYmt",
        "outputId": "315ceaf3-d3cb-4bb6-b541-92358c3cff70"
      },
      "execution_count": null,
      "outputs": [
        {
          "output_type": "execute_result",
          "data": {
            "text/plain": [
              "0.9999350119807155"
            ]
          },
          "metadata": {},
          "execution_count": 68
        }
      ]
    },
    {
      "cell_type": "code",
      "source": [
        "selected_features2 = mrmr_classif(X=x_train_subset, y=y_train, K=10)"
      ],
      "metadata": {
        "colab": {
          "base_uri": "https://localhost:8080/"
        },
        "id": "XiJjYcLQowh1",
        "outputId": "a0d3c993-e706-4bf3-888c-651d6d6d7865"
      },
      "execution_count": null,
      "outputs": [
        {
          "output_type": "stream",
          "name": "stderr",
          "text": [
            "100%|██████████| 10/10 [00:01<00:00,  8.59it/s]\n"
          ]
        }
      ]
    },
    {
      "cell_type": "code",
      "source": [
        "print(selected_features2)"
      ],
      "metadata": {
        "colab": {
          "base_uri": "https://localhost:8080/"
        },
        "id": "gq_FGkalpNfL",
        "outputId": "6d9ac367-5502-4ea3-90c1-34a2e66eec1f"
      },
      "execution_count": null,
      "outputs": [
        {
          "output_type": "stream",
          "name": "stdout",
          "text": [
            "['year', 'speechiness', 'acousticness', 'energy', 'loudness', 'instrumentalness', 'explicit', 'duration_ms', 'artists_names', 'danceability']\n"
          ]
        }
      ]
    },
    {
      "cell_type": "code",
      "source": [
        "# get importance\n",
        "importance2 = regr_3.feature_importances_\n",
        "\n",
        "# summarize feature importance\n",
        "for i,v in enumerate(importance2):\n",
        " print('Feature: %0d, Score: %.5f' % (i,v))\n",
        "\n",
        "# plot feature importance\n",
        "pyplot.bar([x for x in range(len(importance2))], importance2)\n",
        "pyplot.show()\n"
      ],
      "metadata": {
        "colab": {
          "base_uri": "https://localhost:8080/",
          "height": 604
        },
        "id": "Lk4IA5vPpTOJ",
        "outputId": "1d412946-b89a-4ec1-bc98-71ea947a2f1d"
      },
      "execution_count": null,
      "outputs": [
        {
          "output_type": "stream",
          "name": "stdout",
          "text": [
            "Feature: 0, Score: 0.75864\n",
            "Feature: 1, Score: 0.02983\n",
            "Feature: 2, Score: 0.02906\n",
            "Feature: 3, Score: 0.02721\n",
            "Feature: 4, Score: 0.02978\n",
            "Feature: 5, Score: 0.02419\n",
            "Feature: 6, Score: 0.00116\n",
            "Feature: 7, Score: 0.03498\n",
            "Feature: 8, Score: 0.03455\n",
            "Feature: 9, Score: 0.03061\n"
          ]
        },
        {
          "output_type": "display_data",
          "data": {
            "text/plain": [
              "<Figure size 640x480 with 1 Axes>"
            ],
            "image/png": "[encoded data removed]"
          },
          "metadata": {}
        }
      ]
    },
    {
      "cell_type": "code",
      "source": [
        "importance2[1:]"
      ],
      "metadata": {
        "colab": {
          "base_uri": "https://localhost:8080/"
        },
        "id": "hY-0XzCpp5Lh",
        "outputId": "9e0e4743-b106-48b8-c822-5d5bcb15d5b1"
      },
      "execution_count": null,
      "outputs": [
        {
          "output_type": "execute_result",
          "data": {
            "text/plain": [
              "array([0.02982676, 0.02905893, 0.02720727, 0.02978041, 0.02419196,\n",
              "       0.0011551 , 0.03498135, 0.03454917, 0.03060665])"
            ]
          },
          "metadata": {},
          "execution_count": 72
        }
      ]
    },
    {
      "cell_type": "code",
      "source": [
        "pyplot.bar([x for x in range(len(importance2[1:]))], importance2[1:])\n",
        "pyplot.show()"
      ],
      "metadata": {
        "colab": {
          "base_uri": "https://localhost:8080/",
          "height": 430
        },
        "id": "jmA_4JgnqSQr",
        "outputId": "077964b5-a18f-4e5c-f068-294321451d38"
      },
      "execution_count": null,
      "outputs": [
        {
          "output_type": "display_data",
          "data": {
            "text/plain": [
              "<Figure size 640x480 with 1 Axes>"
            ],
            "image/png": "[encoded data removed]"
          },
          "metadata": {}
        }
      ]
    },
    {
      "cell_type": "code",
      "source": [
        "x_train_subset"
      ],
      "metadata": {
        "colab": {
          "base_uri": "https://localhost:8080/",
          "height": 443
        },
        "id": "GlrWycOqqf-I",
        "outputId": "6e9a7e37-fac4-450c-b285-42c55aacb5c7"
      },
      "execution_count": null,
      "outputs": [
        {
          "output_type": "execute_result",
          "data": {
            "text/plain": [
              "        year  speechiness  acousticness  energy  loudness  instrumentalness  \\\n",
              "152741  2005       0.0536        0.2950   0.806    -9.849          0.000221   \n",
              "164213  1988       0.0326        0.0194   0.681   -12.577          0.313000   \n",
              "102499  1989       0.0515        0.9750   0.154   -18.150          0.851000   \n",
              "146313  1973       0.0399        0.5950   0.530    -9.550          0.000061   \n",
              "23075   1941       0.4480        0.0623   0.997    -4.262          0.611000   \n",
              "...      ...          ...           ...     ...       ...               ...   \n",
              "77849   1947       0.0425        0.9950   0.053   -29.684          0.943000   \n",
              "45605   1962       0.0359        0.4760   0.328   -10.269          0.000000   \n",
              "111854  1955       0.0333        0.7660   0.181   -12.014          0.757000   \n",
              "69954   1994       0.0811        0.1060   0.951    -4.659          0.000010   \n",
              "63809   1963       0.0270        0.8390   0.267   -11.176          0.000169   \n",
              "\n",
              "        explicit  duration_ms  artists_names  danceability  \n",
              "152741         0       188267           4169         0.570  \n",
              "164213         0       299000           2572         0.620  \n",
              "102499         0       111600          16627         0.419  \n",
              "146313         0       180453           5902         0.558  \n",
              "23075          0        56332           8995         0.234  \n",
              "...          ...          ...            ...           ...  \n",
              "77849          0       201840          15677         0.483  \n",
              "45605          0       133467           5307         0.576  \n",
              "111854         0       215627           4020         0.262  \n",
              "69954          0       369120           8349         0.759  \n",
              "63809          0       132333          12865         0.406  \n",
              "\n",
              "[94803 rows x 10 columns]"
            ],
            "text/html": [
              "\n",
              "  <div id=\"df-a6c5390c-0a73-44e8-8293-d3a45b28f9cb\" class=\"colab-df-container\">\n",
              "    <div>\n",
              "<style scoped>\n",
              "    .dataframe tbody tr th:only-of-type {\n",
              "        vertical-align: middle;\n",
              "    }\n",
              "\n",
              "    .dataframe tbody tr th {\n",
              "        vertical-align: top;\n",
              "    }\n",
              "\n",
              "    .dataframe thead th {\n",
              "        text-align: right;\n",
              "    }\n",
              "</style>\n",
              "<table border=\"1\" class=\"dataframe\">\n",
              "  <thead>\n",
              "    <tr style=\"text-align: right;\">\n",
              "      <th></th>\n",
              "      <th>year</th>\n",
              "      <th>speechiness</th>\n",
              "      <th>acousticness</th>\n",
              "      <th>energy</th>\n",
              "      <th>loudness</th>\n",
              "      <th>instrumentalness</th>\n",
              "      <th>explicit</th>\n",
              "      <th>duration_ms</th>\n",
              "      <th>artists_names</th>\n",
              "      <th>danceability</th>\n",
              "    </tr>\n",
              "  </thead>\n",
              "  <tbody>\n",
              "    <tr>\n",
              "      <th>152741</th>\n",
              "      <td>2005</td>\n",
              "      <td>0.0536</td>\n",
              "      <td>0.2950</td>\n",
              "      <td>0.806</td>\n",
              "      <td>-9.849</td>\n",
              "      <td>0.000221</td>\n",
              "      <td>0</td>\n",
              "      <td>188267</td>\n",
              "      <td>4169</td>\n",
              "      <td>0.570</td>\n",
              "    </tr>\n",
              "    <tr>\n",
              "      <th>164213</th>\n",
              "      <td>1988</td>\n",
              "      <td>0.0326</td>\n",
              "      <td>0.0194</td>\n",
              "      <td>0.681</td>\n",
              "      <td>-12.577</td>\n",
              "      <td>0.313000</td>\n",
              "      <td>0</td>\n",
              "      <td>299000</td>\n",
              "      <td>2572</td>\n",
              "      <td>0.620</td>\n",
              "    </tr>\n",
              "    <tr>\n",
              "      <th>102499</th>\n",
              "      <td>1989</td>\n",
              "      <td>0.0515</td>\n",
              "      <td>0.9750</td>\n",
              "      <td>0.154</td>\n",
              "      <td>-18.150</td>\n",
              "      <td>0.851000</td>\n",
              "      <td>0</td>\n",
              "      <td>111600</td>\n",
              "      <td>16627</td>\n",
              "      <td>0.419</td>\n",
              "    </tr>\n",
              "    <tr>\n",
              "      <th>146313</th>\n",
              "      <td>1973</td>\n",
              "      <td>0.0399</td>\n",
              "      <td>0.5950</td>\n",
              "      <td>0.530</td>\n",
              "      <td>-9.550</td>\n",
              "      <td>0.000061</td>\n",
              "      <td>0</td>\n",
              "      <td>180453</td>\n",
              "      <td>5902</td>\n",
              "      <td>0.558</td>\n",
              "    </tr>\n",
              "    <tr>\n",
              "      <th>23075</th>\n",
              "      <td>1941</td>\n",
              "      <td>0.4480</td>\n",
              "      <td>0.0623</td>\n",
              "      <td>0.997</td>\n",
              "      <td>-4.262</td>\n",
              "      <td>0.611000</td>\n",
              "      <td>0</td>\n",
              "      <td>56332</td>\n",
              "      <td>8995</td>\n",
              "      <td>0.234</td>\n",
              "    </tr>\n",
              "    <tr>\n",
              "      <th>...</th>\n",
              "      <td>...</td>\n",
              "      <td>...</td>\n",
              "      <td>...</td>\n",
              "      <td>...</td>\n",
              "      <td>...</td>\n",
              "      <td>...</td>\n",
              "      <td>...</td>\n",
              "      <td>...</td>\n",
              "      <td>...</td>\n",
              "      <td>...</td>\n",
              "    </tr>\n",
              "    <tr>\n",
              "      <th>77849</th>\n",
              "      <td>1947</td>\n",
              "      <td>0.0425</td>\n",
              "      <td>0.9950</td>\n",
              "      <td>0.053</td>\n",
              "      <td>-29.684</td>\n",
              "      <td>0.943000</td>\n",
              "      <td>0</td>\n",
              "      <td>201840</td>\n",
              "      <td>15677</td>\n",
              "      <td>0.483</td>\n",
              "    </tr>\n",
              "    <tr>\n",
              "      <th>45605</th>\n",
              "      <td>1962</td>\n",
              "      <td>0.0359</td>\n",
              "      <td>0.4760</td>\n",
              "      <td>0.328</td>\n",
              "      <td>-10.269</td>\n",
              "      <td>0.000000</td>\n",
              "      <td>0</td>\n",
              "      <td>133467</td>\n",
              "      <td>5307</td>\n",
              "      <td>0.576</td>\n",
              "    </tr>\n",
              "    <tr>\n",
              "      <th>111854</th>\n",
              "      <td>1955</td>\n",
              "      <td>0.0333</td>\n",
              "      <td>0.7660</td>\n",
              "      <td>0.181</td>\n",
              "      <td>-12.014</td>\n",
              "      <td>0.757000</td>\n",
              "      <td>0</td>\n",
              "      <td>215627</td>\n",
              "      <td>4020</td>\n",
              "      <td>0.262</td>\n",
              "    </tr>\n",
              "    <tr>\n",
              "      <th>69954</th>\n",
              "      <td>1994</td>\n",
              "      <td>0.0811</td>\n",
              "      <td>0.1060</td>\n",
              "      <td>0.951</td>\n",
              "      <td>-4.659</td>\n",
              "      <td>0.000010</td>\n",
              "      <td>0</td>\n",
              "      <td>369120</td>\n",
              "      <td>8349</td>\n",
              "      <td>0.759</td>\n",
              "    </tr>\n",
              "    <tr>\n",
              "      <th>63809</th>\n",
              "      <td>1963</td>\n",
              "      <td>0.0270</td>\n",
              "      <td>0.8390</td>\n",
              "      <td>0.267</td>\n",
              "      <td>-11.176</td>\n",
              "      <td>0.000169</td>\n",
              "      <td>0</td>\n",
              "      <td>132333</td>\n",
              "      <td>12865</td>\n",
              "      <td>0.406</td>\n",
              "    </tr>\n",
              "  </tbody>\n",
              "</table>\n",
              "<p>94803 rows × 10 columns</p>\n",
              "</div>\n",
              "    <div class=\"colab-df-buttons\">\n",
              "\n",
              "  <div class=\"colab-df-container\">\n",
              "    <button class=\"colab-df-convert\" onclick=\"convertToInteractive('df-a6c5390c-0a73-44e8-8293-d3a45b28f9cb')\"\n",
              "            title=\"Convert this dataframe to an interactive table.\"\n",
              "            style=\"display:none;\">\n",
              "\n",
              "  <svg xmlns=\"http://www.w3.org/2000/svg\" height=\"24px\" viewBox=\"0 -960 960 960\">\n",
              "    <path d=\"M120-120v-720h720v720H120Zm60-500h600v-160H180v160Zm220 220h160v-160H400v160Zm0 220h160v-160H400v160ZM180-400h160v-160H180v160Zm440 0h160v-160H620v160ZM180-180h160v-160H180v160Zm440 0h160v-160H620v160Z\"/>\n",
              "  </svg>\n",
              "    </button>\n",
              "\n",
              "  <style>\n",
              "    .colab-df-container {\n",
              "      display:flex;\n",
              "      gap: 12px;\n",
              "    }\n",
              "\n",
              "    .colab-df-convert {\n",
              "      background-color: #E8F0FE;\n",
              "      border: none;\n",
              "      border-radius: 50%;\n",
              "      cursor: pointer;\n",
              "      display: none;\n",
              "      fill: #1967D2;\n",
              "      height: 32px;\n",
              "      padding: 0 0 0 0;\n",
              "      width: 32px;\n",
              "    }\n",
              "\n",
              "    .colab-df-convert:hover {\n",
              "      background-color: #E2EBFA;\n",
              "      box-shadow: 0px 1px 2px rgba(60, 64, 67, 0.3), 0px 1px 3px 1px rgba(60, 64, 67, 0.15);\n",
              "      fill: #174EA6;\n",
              "    }\n",
              "\n",
              "    .colab-df-buttons div {\n",
              "      margin-bottom: 4px;\n",
              "    }\n",
              "\n",
              "    [theme=dark] .colab-df-convert {\n",
              "      background-color: #3B4455;\n",
              "      fill: #D2E3FC;\n",
              "    }\n",
              "\n",
              "    [theme=dark] .colab-df-convert:hover {\n",
              "      background-color: #434B5C;\n",
              "      box-shadow: 0px 1px 3px 1px rgba(0, 0, 0, 0.15);\n",
              "      filter: drop-shadow(0px 1px 2px rgba(0, 0, 0, 0.3));\n",
              "      fill: #FFFFFF;\n",
              "    }\n",
              "  </style>\n",
              "\n",
              "    <script>\n",
              "      const buttonEl =\n",
              "        document.querySelector('#df-a6c5390c-0a73-44e8-8293-d3a45b28f9cb button.colab-df-convert');\n",
              "      buttonEl.style.display =\n",
              "        google.colab.kernel.accessAllowed ? 'block' : 'none';\n",
              "\n",
              "      async function convertToInteractive(key) {\n",
              "        const element = document.querySelector('#df-a6c5390c-0a73-44e8-8293-d3a45b28f9cb');\n",
              "        const dataTable =\n",
              "          await google.colab.kernel.invokeFunction('convertToInteractive',\n",
              "                                                    [key], {});\n",
              "        if (!dataTable) return;\n",
              "\n",
              "        const docLinkHtml = 'Like what you see? Visit the ' +\n",
              "          '<a target=\"_blank\" href=https://colab.research.google.com/notebooks/data_table.ipynb>data table notebook</a>'\n",
              "          + ' to learn more about interactive tables.';\n",
              "        element.innerHTML = '';\n",
              "        dataTable['output_type'] = 'display_data';\n",
              "        await google.colab.output.renderOutput(dataTable, element);\n",
              "        const docLink = document.createElement('div');\n",
              "        docLink.innerHTML = docLinkHtml;\n",
              "        element.appendChild(docLink);\n",
              "      }\n",
              "    </script>\n",
              "  </div>\n",
              "\n",
              "\n",
              "<div id=\"df-87502350-f3ef-486b-bf8c-13423e71ccdd\">\n",
              "  <button class=\"colab-df-quickchart\" onclick=\"quickchart('df-87502350-f3ef-486b-bf8c-13423e71ccdd')\"\n",
              "            title=\"Suggest charts.\"\n",
              "            style=\"display:none;\">\n",
              "\n",
              "<svg xmlns=\"http://www.w3.org/2000/svg\" height=\"24px\"viewBox=\"0 0 24 24\"\n",
              "     width=\"24px\">\n",
              "    <g>\n",
              "        <path d=\"M19 3H5c-1.1 0-2 .9-2 2v14c0 1.1.9 2 2 2h14c1.1 0 2-.9 2-2V5c0-1.1-.9-2-2-2zM9 17H7v-7h2v7zm4 0h-2V7h2v10zm4 0h-2v-4h2v4z\"/>\n",
              "    </g>\n",
              "</svg>\n",
              "  </button>\n",
              "\n",
              "<style>\n",
              "  .colab-df-quickchart {\n",
              "      --bg-color: #E8F0FE;\n",
              "      --fill-color: #1967D2;\n",
              "      --hover-bg-color: #E2EBFA;\n",
              "      --hover-fill-color: #174EA6;\n",
              "      --disabled-fill-color: #AAA;\n",
              "      --disabled-bg-color: #DDD;\n",
              "  }\n",
              "\n",
              "  [theme=dark] .colab-df-quickchart {\n",
              "      --bg-color: #3B4455;\n",
              "      --fill-color: #D2E3FC;\n",
              "      --hover-bg-color: #434B5C;\n",
              "      --hover-fill-color: #FFFFFF;\n",
              "      --disabled-bg-color: #3B4455;\n",
              "      --disabled-fill-color: #666;\n",
              "  }\n",
              "\n",
              "  .colab-df-quickchart {\n",
              "    background-color: var(--bg-color);\n",
              "    border: none;\n",
              "    border-radius: 50%;\n",
              "    cursor: pointer;\n",
              "    display: none;\n",
              "    fill: var(--fill-color);\n",
              "    height: 32px;\n",
              "    padding: 0;\n",
              "    width: 32px;\n",
              "  }\n",
              "\n",
              "  .colab-df-quickchart:hover {\n",
              "    background-color: var(--hover-bg-color);\n",
              "    box-shadow: 0 1px 2px rgba(60, 64, 67, 0.3), 0 1px 3px 1px rgba(60, 64, 67, 0.15);\n",
              "    fill: var(--button-hover-fill-color);\n",
              "  }\n",
              "\n",
              "  .colab-df-quickchart-complete:disabled,\n",
              "  .colab-df-quickchart-complete:disabled:hover {\n",
              "    background-color: var(--disabled-bg-color);\n",
              "    fill: var(--disabled-fill-color);\n",
              "    box-shadow: none;\n",
              "  }\n",
              "\n",
              "  .colab-df-spinner {\n",
              "    border: 2px solid var(--fill-color);\n",
              "    border-color: transparent;\n",
              "    border-bottom-color: var(--fill-color);\n",
              "    animation:\n",
              "      spin 1s steps(1) infinite;\n",
              "  }\n",
              "\n",
              "  @keyframes spin {\n",
              "    0% {\n",
              "      border-color: transparent;\n",
              "      border-bottom-color: var(--fill-color);\n",
              "      border-left-color: var(--fill-color);\n",
              "    }\n",
              "    20% {\n",
              "      border-color: transparent;\n",
              "      border-left-color: var(--fill-color);\n",
              "      border-top-color: var(--fill-color);\n",
              "    }\n",
              "    30% {\n",
              "      border-color: transparent;\n",
              "      border-left-color: var(--fill-color);\n",
              "      border-top-color: var(--fill-color);\n",
              "      border-right-color: var(--fill-color);\n",
              "    }\n",
              "    40% {\n",
              "      border-color: transparent;\n",
              "      border-right-color: var(--fill-color);\n",
              "      border-top-color: var(--fill-color);\n",
              "    }\n",
              "    60% {\n",
              "      border-color: transparent;\n",
              "      border-right-color: var(--fill-color);\n",
              "    }\n",
              "    80% {\n",
              "      border-color: transparent;\n",
              "      border-right-color: var(--fill-color);\n",
              "      border-bottom-color: var(--fill-color);\n",
              "    }\n",
              "    90% {\n",
              "      border-color: transparent;\n",
              "      border-bottom-color: var(--fill-color);\n",
              "    }\n",
              "  }\n",
              "</style>\n",
              "\n",
              "  <script>\n",
              "    async function quickchart(key) {\n",
              "      const quickchartButtonEl =\n",
              "        document.querySelector('#' + key + ' button');\n",
              "      quickchartButtonEl.disabled = true;  // To prevent multiple clicks.\n",
              "      quickchartButtonEl.classList.add('colab-df-spinner');\n",
              "      try {\n",
              "        const charts = await google.colab.kernel.invokeFunction(\n",
              "            'suggestCharts', [key], {});\n",
              "      } catch (error) {\n",
              "        console.error('Error during call to suggestCharts:', error);\n",
              "      }\n",
              "      quickchartButtonEl.classList.remove('colab-df-spinner');\n",
              "      quickchartButtonEl.classList.add('colab-df-quickchart-complete');\n",
              "    }\n",
              "    (() => {\n",
              "      let quickchartButtonEl =\n",
              "        document.querySelector('#df-87502350-f3ef-486b-bf8c-13423e71ccdd button');\n",
              "      quickchartButtonEl.style.display =\n",
              "        google.colab.kernel.accessAllowed ? 'block' : 'none';\n",
              "    })();\n",
              "  </script>\n",
              "</div>\n",
              "    </div>\n",
              "  </div>\n"
            ]
          },
          "metadata": {},
          "execution_count": 74
        }
      ]
    },
    {
      "cell_type": "code",
      "source": [],
      "metadata": {
        "id": "IbwESx9urcaT"
      },
      "execution_count": null,
      "outputs": []
    }
  ]
}